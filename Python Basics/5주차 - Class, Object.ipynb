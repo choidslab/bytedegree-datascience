{
 "cells": [
  {
   "cell_type": "markdown",
   "metadata": {},
   "source": [
    "#### 클래스(Class)\n",
    "  - Python은 객체지향개념이 포함된 Obeject Oriented 프로그래밍 언어\n",
    "  - 클래스는 속성(Attribute), 메소드(Method)로 구성\n",
    "  - 클래스를 사용하는 중요한 목적: `Information Hiding`, `Encapuslation`, `Reuse`\n",
    "  - 객체(Object)는 클래스에 의해 생성 -> 객체를 생성하기 전 class를 정의(구현)해야 함\n",
    "  - 한 클래스에 의해 생성된 객체는 클래스의 메소드는 공유, But 속성은 공유하지 않음(객체마다 속성 값이 다름)\n",
    "  - 기본적으로 파이썬의 모든 것은 객체\n",
    "  - is-a 관계인지 has-a 관계인지를 분석하여 class 설계 수행"
   ]
  },
  {
   "cell_type": "code",
   "execution_count": 11,
   "metadata": {},
   "outputs": [
    {
     "name": "stdout",
     "output_type": "stream",
     "text": [
      "안녕하세요. Dooseop입니다.\n",
      "안녕하세요. 홍길동입니다.\n",
      "2027556228168 2027554732040\n"
     ]
    }
   ],
   "source": [
    "# 클래스 예시 \n",
    "class Man:\n",
    "    def __init__(self, name): # 생성자(Constructor)라고 하며 객체 생성 시 초기화 역할을 담당하는 메소드\n",
    "        self.name = name\n",
    "        print('안녕하세요. {}입니다.'.format(self.name))\n",
    "\n",
    "if __name__ == \"__main__\":\n",
    "    man1 = Man('Dooseop') # 객체 man1 생성\n",
    "    man2 = Man('홍길동')  # 객체 man2 생성\n",
    "    print(id(man1), id(man2)) # Man 클래스에 의해 생성된 객체 man1과 man2의 id값이 다름 --> 서로 다른 객체임을 알 수 있음"
   ]
  },
  {
   "cell_type": "code",
   "execution_count": null,
   "metadata": {},
   "outputs": [],
   "source": []
  },
  {
   "cell_type": "code",
   "execution_count": null,
   "metadata": {},
   "outputs": [],
   "source": []
  },
  {
   "cell_type": "code",
   "execution_count": null,
   "metadata": {},
   "outputs": [],
   "source": []
  },
  {
   "cell_type": "code",
   "execution_count": null,
   "metadata": {},
   "outputs": [],
   "source": []
  }
 ],
 "metadata": {
  "kernelspec": {
   "display_name": "Python 3",
   "language": "python",
   "name": "python3"
  },
  "language_info": {
   "codemirror_mode": {
    "name": "ipython",
    "version": 3
   },
   "file_extension": ".py",
   "mimetype": "text/x-python",
   "name": "python",
   "nbconvert_exporter": "python",
   "pygments_lexer": "ipython3",
   "version": "3.7.6"
  }
 },
 "nbformat": 4,
 "nbformat_minor": 4
}

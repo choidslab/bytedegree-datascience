{
 "cells": [
  {
   "cell_type": "markdown",
   "metadata": {},
   "source": [
    "#### 클래스(Class)\n",
    "  - Python은 객체지향개념이 포함된 Obeject Oriented 프로그래밍 언어\n",
    "  - 클래스는 `속성(Attribute)`, `메소드(Method)`로 구성\n",
    "  - 클래스를 사용하는 중요한 목적: `Information Hiding`, `Encapuslation`, `Reuse`\n",
    "  - 객체(Object)는 클래스에 의해 생성 -> 객체를 생성하기 전 class를 정의(구현)해야 함\n",
    "  - 한 클래스에 의해 생성된 객체는 클래스의 메소드는 공유, But 속성은 공유하지 않음(객체마다 속성 값이 다름)\n",
    "  - 기본적으로 파이썬의 모든 것은 객체\n",
    "  - is-a 관계인지 has-a 관계인지를 분석하여 class 설계 수행"
   ]
  },
  {
   "cell_type": "markdown",
   "metadata": {},
   "source": [
    "#### 생성자(Constructor) 메소드\n",
    "  - 객체 생성시 가장 먼저 호출되는 메소드\n",
    "  - `def __init__(self):`\n",
    "  "
   ]
  },
  {
   "cell_type": "markdown",
   "metadata": {},
   "source": [
    "#### self 키워드 \n",
    "  - Python 클래스에서 메소드는 첫 번째 인자로 `self`가 무조건 온다!\n",
    "  - C++, Java에서 쓰이는 `this`와 같은 의미\n",
    "  - self는 객체 자기 자신을 가르킴\n",
    "  - 꼭 self라고 쓸 필요는 없으나 관례적으로 self라고 사용"
   ]
  },
  {
   "cell_type": "markdown",
   "metadata": {},
   "source": [
    "#### 메소드(Method)\n",
    "  - 클래스 내에 정의된 함수를 의미\n",
    "  - 해당 클래스의 객체에서만 메소드 호출 가능\n",
    "  - `object.method_name()` 형태로 호출(주의: 첫 번째 인자는 `self`임을 잊지 말자!)\n",
    "  - 메소드의 종류\n",
    "    - instance method: 객체 이름으로 호출, 해당 메소드를 호출한 객체에만 영향\n",
    "    - class method(`static method`): class 레벨 호출, class 멤버 변수만 변경 가능\n",
    "      - `@staticmethod`\n",
    "      - static 메소드에서는 self parameter를 사용하지 않음"
   ]
  },
  {
   "cell_type": "markdown",
   "metadata": {},
   "source": [
    "#### 상속(Inheritance)\n",
    "  - `코드의 재사용(Reuse)`을 위한 개념 -> OOP의 특징\n",
    "  - 기존에 정의한 클래스를 그대로 물려받아 재사용\n",
    "  - 기존 클래스의 멤버 변수, 멤버 메소드를 상속 받아 사용\n",
    "    - 원본 클래스: `Parent, Super, Base 클래스`라고 표현\n",
    "    - 상속받아 새롭게 `생성되는 클래스: Child, Sub, Derived 클래스`라고 표현\n",
    "  - `is-a 관계`를 고려하여 클래스 상속을 설계\n",
    "    - ex) 사자 is a 고양이과 동물, 표범 is a 고양이과 동물, 호랑이 is a 고양이과 동물\n",
    "  - `메소드 오버라이드(Method Override)`\n",
    "    - 부모클래스로부터 상속받은 메소드를 자식클래스에서 다시 재정의(Override) 하는 것을 의미\n",
    "    - 자식클래스로부터 생성된 객체에서 메소드를 호출할 경우 오버라이드된 메소드가 호출됨\n",
    "  - `super` 키워드를 통해 하위 클래스에서 상위 클래스에 접근할 수 있음 "
   ]
  },
  {
   "cell_type": "markdown",
   "metadata": {},
   "source": [
    "---"
   ]
  },
  {
   "cell_type": "code",
   "execution_count": 4,
   "metadata": {},
   "outputs": [
    {
     "name": "stdout",
     "output_type": "stream",
     "text": [
      "안녕하세요. Dooseop입니다.\n",
      "안녕하세요. 홍길동입니다.\n",
      "140473297747856 140473304551248\n"
     ]
    }
   ],
   "source": [
    "# 클래스 예시1\n",
    "class Man:\n",
    "    def __init__(self, name): # 생성자(Constructor)라고 하며 객체 생성 시 초기화 역할을 담당하는 메소드\n",
    "        self.name = name\n",
    "        print('안녕하세요. {}입니다.'.format(self.name))\n",
    "\n",
    "if __name__ == \"__main__\":\n",
    "    man1 = Man('Dooseop') # 객체 man1 생성\n",
    "    man2 = Man('홍길동')  # 객체 man2 생성\n",
    "    print(id(man1), id(man2)) # Man 클래스에 의해 생성된 객체 man1과 man2의 id값이 다름 --> 서로 다른 객체임을 알 수 있음"
   ]
  },
  {
   "cell_type": "code",
   "execution_count": 5,
   "metadata": {},
   "outputs": [
    {
     "name": "stdout",
     "output_type": "stream",
     "text": [
      "<__main__.Student object at 0x7fc27d4338d0> <__main__.Student object at 0x7fc27d6b0790> <__main__.Student object at 0x7fc27d6b0d10>\n",
      "20200001 Tim 23\n",
      "20200002 Jerry 21\n",
      "20200003 Mark 22\n"
     ]
    }
   ],
   "source": [
    "# 클래스 예시2 - 생성자\n",
    "class Student:\n",
    "    def __init__(self, id_num, name, age):\n",
    "        self.id_num = id_num\n",
    "        self.name = name\n",
    "        self.age = age\n",
    "\n",
    "if __name__ == \"__main__\":\n",
    "    std1 = Student(20200001, \"Tim\", 23)\n",
    "    std2 = Student(20200002, \"Jerry\", 21)\n",
    "    std3 = Student(20200003, \"Mark\", 22)\n",
    "    \n",
    "    print(std1, std2, std3) # 객체가 생성된 메모리 주소 출력\n",
    "    print(std1.id_num, std1.name, std1.age)\n",
    "    print(std2.id_num, std2.name, std2.age)\n",
    "    print(std3.id_num, std3.name, std3.age)    "
   ]
  },
  {
   "cell_type": "code",
   "execution_count": 10,
   "metadata": {},
   "outputs": [
    {
     "name": "stdout",
     "output_type": "stream",
     "text": [
      "0\n",
      "10\n",
      "11\n"
     ]
    }
   ],
   "source": [
    "# 클래스 예시3 - method\n",
    "class Counter:\n",
    "    def __init__(self):\n",
    "        self.num = 0\n",
    "    \n",
    "    def current_value(self): # Counter 클래스의 멤버 메소드\n",
    "        print(self.num)\n",
    "        \n",
    "    def increment_num(self):\n",
    "        self.num += 1\n",
    "\n",
    "if __name__ == \"__main__\":\n",
    "    cnt1 = Counter()\n",
    "    cnt1.current_value()\n",
    "    cnt1.num = 10\n",
    "    cnt1.current_value()\n",
    "    cnt1.increment_num()\n",
    "    cnt1.current_value()"
   ]
  },
  {
   "cell_type": "code",
   "execution_count": 12,
   "metadata": {},
   "outputs": [],
   "source": [
    "# 객체(instance) 없이 클래스의 메소드를 사용 -> class method(static method) 이용\n",
    "# 속성(멤버 변수)이 없는 경우 static 메소드 사용, self 키워드 사용 X\n",
    "class Math:\n",
    "    @staticmethod\n",
    "    def add(a, b):\n",
    "        return a + b\n",
    "    \n",
    "    @staticmethod\n",
    "    def mul(a, b):\n",
    "        return a * b"
   ]
  },
  {
   "cell_type": "code",
   "execution_count": 22,
   "metadata": {},
   "outputs": [
    {
     "name": "stdout",
     "output_type": "stream",
     "text": [
      "Lion\n",
      "사자는 떼를 지어 사냥하고, 육식을 합니다.\n",
      "Leopard\n",
      "육식을 합니다.\n",
      "표범은 혼자 사냥하고, 육식을 합니다.\n"
     ]
    }
   ],
   "source": [
    "# 클래스 상속 예시\n",
    "class Feline:\n",
    "    def __init__(self):\n",
    "        pass\n",
    "    def eat(self):\n",
    "        print('육식을 합니다.')\n",
    "\n",
    "class Lion(Feline):\n",
    "    def __init__(self):\n",
    "        self.specis = 'Lion'\n",
    "    \n",
    "    def eat(self): # 메소드 오버라이드\n",
    "        print('사자는 떼를 지어 사냥하고, 육식을 합니다.')\n",
    "        \n",
    "\n",
    "class Leopard(Feline):\n",
    "    def __init__(self):\n",
    "        self.specis = 'Leopard'\n",
    "    \n",
    "    def eat(self): # 메소드 오버라이드\n",
    "        super().eat() # 상위 클래스의 메소드를 호출할 때 super() 키워드 사용\n",
    "        print(\"표범은 혼자 사냥하고, 육식을 합니다.\")\n",
    "\n",
    "lion = Lion()\n",
    "leopard = Leopard()\n",
    "\n",
    "print(lion.specis)\n",
    "lion.eat() # Feline 클래스를 상속 받았기 때문에 eat() 메소드 호출 가능\n",
    "print(leopard.specis)\n",
    "leopard.eat()"
   ]
  },
  {
   "cell_type": "markdown",
   "metadata": {},
   "source": [
    "---"
   ]
  },
  {
   "cell_type": "markdown",
   "metadata": {},
   "source": [
    "#### 클래스 연산자 재정의(C++의 연산자 오버로딩과 비슷한 개념)"
   ]
  },
  {
   "cell_type": "code",
   "execution_count": 43,
   "metadata": {},
   "outputs": [
    {
     "name": "stdout",
     "output_type": "stream",
     "text": [
      "(10, 20)\n",
      "(2, 5)\n",
      "(12, 25)\n",
      "(8, 15)\n",
      "(20, 100)\n",
      "500\n",
      "10 20\n"
     ]
    }
   ],
   "source": [
    "class Point:\n",
    "    def __init__(self, x, y):\n",
    "        self.x = x\n",
    "        self.y = y\n",
    "        \n",
    "    def __add__(self, pt):\n",
    "        new_x = self.x + pt.x\n",
    "        new_y = self.y + pt.y\n",
    "        return Point(new_x, new_y)\n",
    "    \n",
    "    def __sub__(self, pt):\n",
    "        new_x = self.x - pt.x\n",
    "        new_y = self.y - pt.y\n",
    "        return Point(new_x, new_y)\n",
    "    \n",
    "    def __mul__(self, pt):\n",
    "        new_x = self.x * pt.x\n",
    "        new_y = self.y * pt.y\n",
    "        return Point(new_x, new_y)\n",
    "    \n",
    "    def __len__(self):\n",
    "        return self.x ** 2 + self.y **2\n",
    "    \n",
    "    def __getitem__(self, index):\n",
    "        if index == 0:\n",
    "            return self.x\n",
    "        elif index == 1:\n",
    "            return self.y\n",
    "        else:\n",
    "            raise\n",
    "\n",
    "    def __str__(self): # 문자열 출력시 __str__ 메소드를 오버라이드\n",
    "        return '({}, {})'.format(self.x, self.y)\n",
    "\n",
    "#     def print_point(self):\n",
    "#         print('({}, {})'.format(self.x, self.y))\n",
    "    \n",
    "        \n",
    "p1 = Point(10, 20)\n",
    "p2 = Point(2, 5)\n",
    "\n",
    "# p1.print_point()\n",
    "# p2.print_point()\n",
    "print(p1)\n",
    "print(p2)\n",
    "\n",
    "print(p1 + p2)\n",
    "print(p1 - p2)\n",
    "print(p1 * p2)\n",
    "print(len(p1))\n",
    "print(p1[0], p1[1]) # 클래스 __getitem__() 메소드를 오버라이드하여 구현 가능"
   ]
  },
  {
   "cell_type": "code",
   "execution_count": null,
   "metadata": {},
   "outputs": [],
   "source": []
  }
 ],
 "metadata": {
  "kernelspec": {
   "display_name": "Python 3",
   "language": "python",
   "name": "python3"
  },
  "language_info": {
   "codemirror_mode": {
    "name": "ipython",
    "version": 3
   },
   "file_extension": ".py",
   "mimetype": "text/x-python",
   "name": "python",
   "nbconvert_exporter": "python",
   "pygments_lexer": "ipython3",
   "version": "3.7.6"
  }
 },
 "nbformat": 4,
 "nbformat_minor": 4
}

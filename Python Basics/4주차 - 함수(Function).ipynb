{
 "cells": [
  {
   "cell_type": "markdown",
   "metadata": {},
   "source": [
    "#### 함수(Function)부터 학습내용 요약정리 시작!"
   ]
  },
  {
   "cell_type": "markdown",
   "metadata": {},
   "source": [
    "\n",
    "---"
   ]
  },
  {
   "cell_type": "markdown",
   "metadata": {},
   "source": [
    "#### Excercise\n",
    " 1. 숫자 리스트의 평균을 구하는 함수\n",
    " 1. 소수 판별 함수 구현\n",
    " 2. 2 ~ 특정 숫자 사이의 소수의 수를 구하는 함수 구현"
   ]
  },
  {
   "cell_type": "code",
   "execution_count": 5,
   "metadata": {},
   "outputs": [
    {
     "name": "stdout",
     "output_type": "stream",
     "text": [
      "5.5\n",
      "2.0\n"
     ]
    }
   ],
   "source": [
    "# 숫자 리스트의 평균을 구하는 함수\n",
    "def list_avg(num_list):\n",
    "    result = sum(num_list) / len(num_list)\n",
    "    return result\n",
    "    \n",
    "sample_list = [1, 2, 3, 4, 5, 6, 7, 8, 9, 10]\n",
    "sample_list2 = [1, 2, 3]\n",
    "print(list_avg(sample_list))\n",
    "print(list_avg(sample_list2))"
   ]
  },
  {
   "cell_type": "code",
   "execution_count": 23,
   "metadata": {},
   "outputs": [
    {
     "name": "stdout",
     "output_type": "stream",
     "text": [
      "True\n",
      "True\n",
      "False\n",
      "False\n"
     ]
    }
   ],
   "source": [
    "# 소수 판별 함수(소수는 1과 자기자신으로만 나누어지는 수, 중간에 나누어 떨어지는 수가 존재하면 해당 숫자는 소수가 아님)\n",
    "# 소수이면 True 반환, 아니면 False\n",
    "def is_prime(num):\n",
    "    for i in range(2, num):\n",
    "        if num % i == 0:\n",
    "            return False\n",
    "    return True\n",
    "\n",
    "print(is_prime(3))\n",
    "print(is_prime(29))\n",
    "print(is_prime(100))\n",
    "print(is_prime(10))"
   ]
  },
  {
   "cell_type": "code",
   "execution_count": 28,
   "metadata": {},
   "outputs": [
    {
     "name": "stdout",
     "output_type": "stream",
     "text": [
      "[2, 3, 5, 7, 11, 13, 17, 19, 23, 29, 31, 37, 41, 43, 47, 53, 59, 61, 67, 71, 73, 79, 83, 89, 97]\n",
      "25\n",
      "[2, 3, 5]\n",
      "3\n",
      "[2, 3, 5, 7, 11, 13, 17, 19, 23, 29, 31, 37]\n",
      "12\n",
      "[2, 3, 5, 7, 11, 13, 17, 19, 23, 29, 31, 37, 41, 43, 47, 53]\n",
      "16\n"
     ]
    }
   ],
   "source": [
    "# 소수의 개수를 구하고 특정 숫자 사이의 소수를 리스트로 출력하는 함수\n",
    "def count_prime(num):\n",
    "    count = 0\n",
    "    prime_list = list()\n",
    "    for i in range(2, num+1):\n",
    "        if is_prime(i):\n",
    "            count += 1\n",
    "            prime_list.append(i)\n",
    "    print(prime_list) # prime 리스트 출력\n",
    "    return count\n",
    "\n",
    "print(count_prime(100))\n",
    "print(count_prime(5))\n",
    "print(count_prime(37))\n",
    "print(count_prime(57))"
   ]
  },
  {
   "cell_type": "code",
   "execution_count": null,
   "metadata": {},
   "outputs": [],
   "source": []
  }
 ],
 "metadata": {
  "kernelspec": {
   "display_name": "Python 3",
   "language": "python",
   "name": "python3"
  },
  "language_info": {
   "codemirror_mode": {
    "name": "ipython",
    "version": 3
   },
   "file_extension": ".py",
   "mimetype": "text/x-python",
   "name": "python",
   "nbconvert_exporter": "python",
   "pygments_lexer": "ipython3",
   "version": "3.7.6"
  }
 },
 "nbformat": 4,
 "nbformat_minor": 4
}

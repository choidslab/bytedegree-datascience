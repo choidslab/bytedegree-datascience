{
 "cells": [
  {
   "cell_type": "markdown",
   "metadata": {},
   "source": [
    "> 패스트캠퍼스 바이트디그리 데이터사이언스 SQL 수업 내용을 정리, 요약한 자료입니다."
   ]
  },
  {
   "cell_type": "markdown",
   "metadata": {},
   "source": [
    "### PostgreSQL\n",
    "  - 관계형 데이터베이스(RDBMS)\n",
    "  - 오픈소스 데이터베이스\n",
    "  - `Multi-Version Concurrency Control(MVCC)` 지원\n",
    "    - 다수의 사용자가 접근하여 데이터의 수정 및 처리가 이뤄졌을 때 일관성을 유지하는 것을 의미\n",
    "  - [설치 및 다운로드](https://www.postgresql.org/download/)\n",
    "  - 설치 완료 후, `pgAdmin`을 통해 DB 제어 및 SQL 쿼리 실행 가능\n",
    "  - pgAdmin을 실행하고 왼쪽 Tree 메뉴 구조에서 Servers -> PostgreSQL12\n",
    "    - Databases\n",
    "      - PostgreSQL 설치 시 기본 생성되는 Database(postgres)\n",
    "      - `Query Tool`을 통해 SQL 쿼리 전송\n",
    "    - Login/Group Roles\n",
    "      - PostgreSQL 계정 목록을 보여줌\n",
    "      - `postgres`: 최고관리계정\n",
    "    - Tablespaces\n",
    "      - 생성된 table 목록을 볼 수 있음"
   ]
  },
  {
   "cell_type": "markdown",
   "metadata": {},
   "source": [
    "설치 후, pgAdmin 실행 화면\n",
    "\n",
    "![pg](./res/postgresql1.png)"
   ]
  },
  {
   "cell_type": "markdown",
   "metadata": {},
   "source": [
    "---"
   ]
  },
  {
   "cell_type": "markdown",
   "metadata": {},
   "source": [
    "### PostreSQL Tutorial에서 제공하는 Sample DB import 하는 방법\n",
    "1. [PostgreSQL Tutorial 접속](https://www.postgresqltutorial.com/postgresql-sample-database/)\n",
    "2. DVD Rental Sample Database 다운로드 및 압축풀기(.tar파일 생성)\n",
    "3. phgAdmin 접속 및 Create -> Database에서 새로운 DB 생성(본 예제에서는 dvdrental 입력)\n",
    "4. dvdrental db에서 마우르 오른쪽 클릭 -> `Restore` 선택\n",
    "  - Filename에서 1번에서 다운로드 받은 .tar 파일 선택\n",
    "  - 파일이 보이지 않을 경우 all file로 검색\n",
    "  - `Restore` 버튼 클릭\n",
    "5. dvdrental -> Schemas -> Tables에 샘플 table들이 보여지면 정상적으로 import 성공\n",
    "6. drvdrental에서 Query Tool을 열고 `select * from actor;` 입력 후 F5(쿼리 실행) 수행결과 확인"
   ]
  },
  {
   "cell_type": "markdown",
   "metadata": {},
   "source": [
    "---"
   ]
  },
  {
   "cell_type": "markdown",
   "metadata": {},
   "source": [
    "### 편리한 DB접근 및 SQL Query 검색을 위한 `dbeaver` 설치\n",
    "  - dbeaver: SQL 클라이언트 프로그램으로 편리한 DB 관리 기능을 제공하는 오픈소스 툴\n",
    "  - [dbeaver 다운로드](https://dbeaver.io/download/) -> 설치(본 글은 한글버전 기준)\n",
    "  - dbeaver 실행 -> 왼쪽 플러그인 아이콘 `새 데이터베이스 연결` 선택(PostgreSQL)\n",
    "  ![pg](./res/postgresql3.png)<br>\n",
    "  - DB 연결 설정: Host, Database, Username, Password 입력(여기서 DB는 dvdrental)<br>\n",
    "  ![pg](./res/postgresql2.png)<br>\n",
    "  - dvdrental DB가 정상적으로 연결된 것을 확인<br>\n",
    "  ![pg](./res/postgresql4.png)<br>\n",
    "  - dvdrental DB 선택 -> `SQL 편집기`를 열어 SQL Query를 전송(아래는 select문 실행 결과)\n",
    "  ![pg](./res/postgresql5.png)<br>\n",
    "  "
   ]
  },
  {
   "cell_type": "markdown",
   "metadata": {},
   "source": [
    "---"
   ]
  },
  {
   "cell_type": "markdown",
   "metadata": {},
   "source": [
    "### SQL - Select\n",
    "  - `SELECT` \n",
    "    - table에 저장된 데이터를 검색하여 가져오는데 쓰이는 SQL문\n",
    "    - SQL에서 가장 많이 쓰임\n",
    "    - `*` 키워드는 모든 컬럼을 조회\n",
    "    - 특정 컬럼을 조회하고 싶은 경우 select 다음에 컬럼명 입력\n",
    "  - usage \n",
    "    - ex) `SELECT {column name} FROM {table name};`\n",
    "    - 웹 개발 C.R.U.D(Create, Read, Update, Delete)에서 Read를 처리할 때 쓰임<br>\n",
    "![pg](./res/postgresql6.png)<br>\n",
    "    "
   ]
  },
  {
   "cell_type": "markdown",
   "metadata": {},
   "source": [
    "### SQL - Alias\n",
    "  - `Alias`: table에 nickname을 주어 SQL 작성 가능\n",
    "    - Alias를 사용하면 Table Name이 아닌 Alias로 column에 접근 가능\n",
    "    - alias 사용 이유: 가독성 증가, SQL 성능 향상(빠르게 검색 가능)\n",
    "  - usage\n",
    "    - `SELECT table_alias.name, table_alias.id FROM tablename table_alias`<br>\n",
    "    - 아래의 예시는 customer 테이블에 A라는 alias를 생성하여 select문을 실행한 결과<br>\n",
    "    ![pg](./res/postgresql7.png)<br>"
   ]
  },
  {
   "cell_type": "markdown",
   "metadata": {},
   "source": [
    "---"
   ]
  },
  {
   "cell_type": "markdown",
   "metadata": {},
   "source": [
    "### SQL - ORDER BY\n",
    "  - SELECT문에 의해 검색된 데이터를 정렬\n",
    "  - usage \n",
    "    - `ORDER BY {column name} {ASC | DESC}`(ASC: 오름차순, DESC: 내림차순) \n",
    "    - default는 ASC(오름차순)이며 여러 컬럼을 조회할 경우 각 컬럼별로 정렬 순서를 각각 지정할 수 있음\n",
    "    - `NULL 값은 가장 큰 값으로 취급`\n",
    "    - 아래의 그림은 OREDER BY문을 이용하여 오름차순 결과를 보여준 예시<br>\n",
    " ![pg](./res/postgresql8.png)<br>"
   ]
  },
  {
   "cell_type": "markdown",
   "metadata": {},
   "source": [
    "---"
   ]
  },
  {
   "cell_type": "markdown",
   "metadata": {},
   "source": [
    "### SQL - SELECT `DISCTINCT`\n",
    "  - `DISTICT`는 Select 수행 결과에서 `중복값 제거`하는 기능\n",
    "  - Null 값도 하나의 값이기 때문에 중복값 제거\n",
    "  - usage\n",
    "    - `SELECT DISTINCT {column name} FROM {table name};`<br>\n",
    "  ![pg](./res/postgresql9.png)<br>"
   ]
  },
  {
   "cell_type": "markdown",
   "metadata": {},
   "source": [
    "---"
   ]
  },
  {
   "cell_type": "markdown",
   "metadata": {},
   "source": [
    "### SQL - WHERE\n",
    "  - 프로그래밍에서 조건문(if)에 해당\n",
    "  - SELECT를 이용하여 데이터베이스 검색을 수행할 때 특정 조건을 기술하는 부분\n",
    "  - `and`, `or`, `>, <, >=, <=, ==` 연산자 사용 가능\n",
    "  - usage\n",
    "    - `SELECT {column} FROM {table name} WHERE {condition}`<br>\n",
    "      ![pg](./res/postgresql10.png)<br>\n",
    "      ![pg](./res/postgresql11.png)<br>"
   ]
  },
  {
   "cell_type": "markdown",
   "metadata": {},
   "source": [
    "---"
   ]
  },
  {
   "cell_type": "markdown",
   "metadata": {},
   "source": [
    "### SQL - LIMIT, OFFSET\n",
    "  - select문 수행 후 출력 결과의 수를 지정(제한)할 수 있는 기능(출력 row 수 지정)\n",
    "  - `offset`을 통해 시작 위치를 지정할 수 있으며 default 시작은 0 `(0: 첫 번째 값, 1: 두 번째 값...)`\n",
    "  - usage\n",
    "    - `SELECT {column} FROM {table name} LIMIT {INT} | OFFSET {INT}`<br>\n",
    "     ![pg](./res/postgresql12.png)<br>\n",
    "     ![pg](./res/postgresql13.png)<br>"
   ]
  },
  {
   "cell_type": "markdown",
   "metadata": {},
   "source": [
    "---"
   ]
  },
  {
   "cell_type": "markdown",
   "metadata": {},
   "source": [
    "### SQL - FETCH\n",
    "  - LIMIT절과 동일 기능을 제공, Oracle에서 지원하는 SQL 문법\n",
    "  - 부분 범위를 보여줄 때 사용\n",
    "  - FETCH FIRST에 출력 row 수를 지정(지정하지 않을 경우 1건의 데이터 조회 결과만 보여짐)\n",
    "  - LIMIT과 동일하게 OFFSET을 이용하여 출력 시작점을 지정할 수 있음\n",
    "  - usage\n",
    "    - `SELECT {column} FROM {table name} FETCH FIRST {INT} ROW ONLY`\n",
    "    - `SELECT {column} FROM {table name} OFFSET {INT} ROWS FETCH FIRST {INT} ROW ONLY`<br>\n",
    "    ![pg](./res/postgresql14.png)<br>![pg](./res/postgresql15.png)<br>"
   ]
  },
  {
   "cell_type": "markdown",
   "metadata": {},
   "source": [
    "---"
   ]
  },
  {
   "cell_type": "markdown",
   "metadata": {},
   "source": [
    "### SQL - IN, NOT IN\n",
    "  - 특정 컬럼 안에 특정 값이 존재하는지(IN) 또는 존재하지 않는지(NOT IN) 확인\n",
    "  - usage\n",
    "    - `SELECT * FROM {table name} WHERE {column} IN 또는 NOT IN (VALUE1, VALUE2, ...)` -> (value1, value2, ...)는 `or 조건`\n",
    "    - `SELECT * FROM {table name} WHERE {column} IN 또는 NOT IN (SELECT {column2} FROM {table name2});` 서브쿼리 이용\n",
    "    ![pg](./res/postgresql16.png)<br>![pg](./res/postgresql17.png)<br>![pg](./res/postgresql18.png)<br>"
   ]
  },
  {
   "cell_type": "markdown",
   "metadata": {},
   "source": [
    "---"
   ]
  },
  {
   "cell_type": "markdown",
   "metadata": {},
   "source": [
    "### SQL - `BETWEEN` value1 `AND` value2\n",
    "  - 특정 컬럼의 값이 특정 범위 안에 들어가는 값만 필터링하여 출력\n",
    "  - `NOT BETWEEN`을 사용할 경우 범위 안에 들어가지 않는 것만 필터링하여 출력\n",
    "  - usage \n",
    "    - `SELECT {column name} FROM {table name} WHERE {column name} BETWEEN {value1} AND {value2};` -- value1 ~ value2 사이의 값\n",
    "    ![pg](./res/postgresql19.png)"
   ]
  },
  {
   "cell_type": "markdown",
   "metadata": {},
   "source": [
    "---"
   ]
  },
  {
   "cell_type": "markdown",
   "metadata": {},
   "source": [
    "### SQL - LIKE, NOT LIKE\n",
    "  - 특정 패턴에 맞는 값을 조회\n",
    "  - `NOT LIKE`의 경우 패턴에 맞지 않는 값을 조회\n",
    "  - ex)\n",
    "    - 'FOO' LIKE 'FOO' : 'FOO'에 정확히 매칭되는 문자열을 찾음 -> True\n",
    "    - 'FOO' LIKE 'F%' : 'F로 시작하는 모든 문자열 매칭 -> True\n",
    "    - 'FOO' LIKE '_O_': '3자리 문자열이면서 가운데 문자가 O인 경우 매칭 -> True\n",
    "    - 'BAB' LIKE 'B_' : 2자리 문자열이면서 B로 시작하는 문자 매칭 -> False\n",
    "  - usage\n",
    "    - `SELECT {column name} FROM {table name} WHERE {column name} LIKE {pattern};` \n",
    "    ![pg](./res/postgresql20.png)<br>![pg](./res/postgresql21.png)<br>"
   ]
  },
  {
   "cell_type": "markdown",
   "metadata": {},
   "source": [
    "---"
   ]
  },
  {
   "cell_type": "markdown",
   "metadata": {},
   "source": [
    "### SQL - IS NULL, IS NOT NULL\n",
    "  - `IS NULL`: 특정 컬럼 또는 조회된 결괏값이 `NULL인 값`을 조회\n",
    "  - `IS NOT NULL`: 특정 컬럼 또는 조회된 결괏값이 `NULL이 아닌 값`을 조회\n",
    "  - usage\n",
    "    - `SELECT {column name} FROM {table name} WHERE {column name IS NULL | IS NOT NULL}`\n",
    "    ![pg](./res/postgresql22.png)<br>![pg](./res/postgresql23.png)<br>"
   ]
  }
 ],
 "metadata": {
  "kernelspec": {
   "display_name": "Python 3",
   "language": "python",
   "name": "python3"
  },
  "language_info": {
   "codemirror_mode": {
    "name": "ipython",
    "version": 3
   },
   "file_extension": ".py",
   "mimetype": "text/x-python",
   "name": "python",
   "nbconvert_exporter": "python",
   "pygments_lexer": "ipython3",
   "version": "3.7.6"
  }
 },
 "nbformat": 4,
 "nbformat_minor": 4
}

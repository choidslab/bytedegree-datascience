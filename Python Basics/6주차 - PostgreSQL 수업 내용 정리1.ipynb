{
 "cells": [
  {
   "cell_type": "markdown",
   "metadata": {},
   "source": [
    "> 패스트캠퍼스 바이트디그리 데이터사이언스 수업을 듣고 개인적으로 요약한 자료입니다."
   ]
  },
  {
   "cell_type": "markdown",
   "metadata": {},
   "source": [
    "### PostgreSQL\n",
    "  - 관계형 데이터베이스(RDBMS)\n",
    "  - 오픈소스 데이터베이스\n",
    "  - `Multi-Version Concurrency Control(MVCC)` 지원\n",
    "    - 다수의 사용자가 접근하여 데이터의 수정 및 처리가 이뤄졌을 때 일관성을 유지하는 것을 의미\n",
    "  - [설치 및 다운로드](https://www.postgresql.org/download/)\n",
    "  - 설치 완료 후, `pgAdmin`을 통해 DB 제어 및 SQL 쿼리 실행 가능\n",
    "  - pgAdmin을 실행하고 왼쪽 Tree 메뉴 구조에서 Servers -> PostgreSQL12\n",
    "    - Databases\n",
    "      - PostgreSQL 설치 시 기본 생성되는 Database(postgres)\n",
    "      - `Query Tool`을 통해 SQL 쿼리 전송\n",
    "    - Login/Group Roles\n",
    "      - PostgreSQL 계정 목록을 보여줌\n",
    "      - `postgres`: 최고관리계정\n",
    "    - Tablespaces\n",
    "      - 생성된 table 목록을 볼 수 있음"
   ]
  },
  {
   "cell_type": "markdown",
   "metadata": {},
   "source": [
    "설치 후, pgAdmin 실행 화면\n",
    "\n",
    "![pg](./res/postgresql1.png)"
   ]
  },
  {
   "cell_type": "markdown",
   "metadata": {},
   "source": [
    "---"
   ]
  },
  {
   "cell_type": "markdown",
   "metadata": {},
   "source": [
    "### PostreSQL Tutorial에서 제공하는 Sample DB import 하는 방법\n",
    "1. [PostgreSQL Tutorial 접속](https://www.postgresqltutorial.com/postgresql-sample-database/)\n",
    "2. DVD Rental Sample Database 다운로드 및 압축풀기(.tar파일 생성)\n",
    "3. phgAdmin 접속 및 Create -> Database에서 새로운 DB 생성(본 예제에서는 dvdrental 입력)\n",
    "4. dvdrental db에서 마우르 오른쪽 클릭 -> `Restore` 선택\n",
    "  - Filename에서 1번에서 다운로드 받은 .tar 파일 선택\n",
    "  - 파일이 보이지 않을 경우 all file로 검색\n",
    "  - `Restore` 버튼 클릭\n",
    "5. dvdrental -> Schemas -> Tables에 샘플 table들이 보여지면 정상적으로 import 성공\n",
    "6. drvdrental에서 Query Tool을 열고 `select * from actor;` 입력 후 F5(쿼리 실행) 수행결과 확인"
   ]
  },
  {
   "cell_type": "markdown",
   "metadata": {},
   "source": [
    "---"
   ]
  },
  {
   "cell_type": "markdown",
   "metadata": {},
   "source": [
    "### 편리한 DB접근 및 SQL Query 검색을 위한 `dbeaver` 설치\n",
    "  - dbeaver: SQL 클라이언트 프로그램으로 편리한 DB 관리 기능을 제공하는 오픈소스 툴\n",
    "  - [dbeaver 다운로드](https://dbeaver.io/download/) -> 설치(본 글은 한글버전 기준)\n",
    "  - dbeaver 실행 -> 왼쪽 플러그인 아이콘 `새 데이터베이스 연결` 선택(PostgreSQL)\n",
    "  ![pg](./res/postgresql3.png)<br>\n",
    "  - DB 연결 설정: Host, Database, Username, Password 입력(여기서 DB는 dvdrental)<br>\n",
    "  ![pg](./res/postgresql2.png)<br>\n",
    "  - dvdrental DB가 정상적으로 연결된 것을 확인<br>\n",
    "  ![pg](./res/postgresql4.png)<br>\n",
    "  - dvdrental DB 선택 -> `SQL 편집기`를 열어 SQL Query를 전송(아래는 select문 실행 결과)\n",
    "  ![pg](./res/postgresql5.png)<br>\n",
    "  "
   ]
  }
 ],
 "metadata": {
  "kernelspec": {
   "display_name": "Python 3",
   "language": "python",
   "name": "python3"
  },
  "language_info": {
   "codemirror_mode": {
    "name": "ipython",
    "version": 3
   },
   "file_extension": ".py",
   "mimetype": "text/x-python",
   "name": "python",
   "nbconvert_exporter": "python",
   "pygments_lexer": "ipython3",
   "version": "3.7.6"
  }
 },
 "nbformat": 4,
 "nbformat_minor": 4
}

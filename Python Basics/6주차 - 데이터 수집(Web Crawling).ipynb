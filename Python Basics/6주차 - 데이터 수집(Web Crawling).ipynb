{
 "cells": [
  {
   "cell_type": "markdown",
   "metadata": {},
   "source": [
    "#### 크롬 브라우저 개발자 도구를 이용한 웹 페이지 분석\n",
    "  - 크롬 브라우저 `개발자 도구`를 이용하면 웹 페이지를 분석할 수 있음\n",
    "  - 개발자 도구 탭에는 `Elements, Console, Sources, Network` 등이 있음\n",
    "  - `Elements` 탭을 통해 어떤 태그가 쓰였는지 웹 페이지를 분석 후 데이터 수집 진행\n",
    "  - `Network` 탭에서는 `Preserve log`를 체크한 뒤 분석 수행\n",
    "    - Preserve log: 서버에 요청하는 기록을 모두 로깅\n",
    "    - Hearders, Preview, Response 등의 Network 관련 상세 내용 확인 가능"
   ]
  },
  {
   "cell_type": "markdown",
   "metadata": {},
   "source": [
    "#### HTTP method\n",
    "  - HTTP(HyperText Transfer Protocol: HTML 문서, 리소스 등을 전송하는 프로토콜\n",
    "  - Client <-> Server \n",
    "  - HTTP 요청(Request), 응답(Response)을 통해 통신\n",
    "  - HTTP method(웹 데이터 크롤링에서는 GET, POST 두 방식이 많이 쓰임)\n",
    "    - `GET`\n",
    "      - 데이터 또는 값을 URL상에 포함하여 전달(Resource 요청에 사용)\n",
    "      - ex) /test/demo_form.php?name1=value1&name2=value2 (출처: w3schools.com)\n",
    "    - `POST`\n",
    "      - 데이터를 Form에 포함하여 전달(로그인, 데이터 전송 등에 사용)\n",
    "      - URL 상에 데이터나 값이 노출되지 않음\n",
    "  - 웹 크롤링에서는 대부분 GET 방식을 활용"
   ]
  },
  {
   "cell_type": "markdown",
   "metadata": {},
   "source": [
    "#### HTML elements\n",
    "  - HTML 문서는 HTML 태그(tag)로 구성\n",
    "  - <태그명 속성1=\"value1\" 태그명 속성2=\"value2\">Text, Value</태그명>\n",
    "  - ex) `<a href=\"//choidslab.github.io\">© 2020 Doo-Seop Choi</a>`\n",
    " \n"
   ]
  },
  {
   "cell_type": "markdown",
   "metadata": {},
   "source": [
    "#### html 기본 구조\n",
    "```\n",
    "<html>\n",
    "    <head>\n",
    "        <title>웹 페이지 제목</title>\n",
    "    </head>\n",
    "    <body>\n",
    "        <h1>Testing...<h2>\n",
    "        <p>HTML 테스트 페이지</p>\n",
    "    </body>\n",
    "</html>```"
   ]
  },
  {
   "cell_type": "markdown",
   "metadata": {},
   "source": [
    "#### Python requests 모듈 사용(HTTP 통신)\n",
    "  - `requests` 모듈을 이용하여 HTTP 요청, 응답을 받을 수 있음\n",
    "  - `requests.get()`, parameter로 URL 전달\n",
    "  - `requests.post(url, data=)`, parameter로 URL과 data 전달"
   ]
  },
  {
   "cell_type": "code",
   "execution_count": 9,
   "metadata": {},
   "outputs": [
    {
     "name": "stdout",
     "output_type": "stream",
     "text": [
      "<Response [200]>\n"
     ]
    }
   ],
   "source": [
    "import requests\n",
    "url = 'https://news.v.daum.net/v/20200610111322574'\n",
    "result = requests.get(url) # URL에 대한 HTTP GET 방식 요청\n",
    "print(result) # HTTP Response Status Code 200(정상처리) 확인\n",
    "\n",
    "result.text # url 내용을 html 형태로 볼 수 있음"
   ]
  }
 ],
 "metadata": {
  "kernelspec": {
   "display_name": "Python 3",
   "language": "python",
   "name": "python3"
  },
  "language_info": {
   "codemirror_mode": {
    "name": "ipython",
    "version": 3
   },
   "file_extension": ".py",
   "mimetype": "text/x-python",
   "name": "python",
   "nbconvert_exporter": "python",
   "pygments_lexer": "ipython3",
   "version": "3.7.6"
  }
 },
 "nbformat": 4,
 "nbformat_minor": 4
}

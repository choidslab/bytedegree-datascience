{
 "cells": [
  {
   "cell_type": "markdown",
   "metadata": {},
   "source": [
    "### PostgreSQL\n",
    "  - 관계형 데이터베이스(RDBMS)\n",
    "  - 오픈소스 데이터베이스\n",
    "  - `Multi-Version Concurrency Control(MVCC)` 지원\n",
    "    - 다수의 사용자가 접근하여 데이터의 수정 및 처리가 이뤄졌을 때 일관성을 유지하는 것을 의미\n",
    "  - [설치 및 다운로드](https://www.postgresql.org/download/)"
   ]
  },
  {
   "cell_type": "code",
   "execution_count": null,
   "metadata": {},
   "outputs": [],
   "source": []
  }
 ],
 "metadata": {
  "kernelspec": {
   "display_name": "Python 3",
   "language": "python",
   "name": "python3"
  },
  "language_info": {
   "codemirror_mode": {
    "name": "ipython",
    "version": 3
   },
   "file_extension": ".py",
   "mimetype": "text/x-python",
   "name": "python",
   "nbconvert_exporter": "python",
   "pygments_lexer": "ipython3",
   "version": "3.7.6"
  }
 },
 "nbformat": 4,
 "nbformat_minor": 4
}

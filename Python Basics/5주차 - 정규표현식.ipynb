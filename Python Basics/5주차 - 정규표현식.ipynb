{
 "cells": [
  {
   "cell_type": "markdown",
   "metadata": {},
   "source": [
    "#### 정규표현식(Regular Expression)\n",
    "  - 주어진 문자열 내에서 특정한 패턴과 일치하는 문자열을 검색, 치환, 제거하는 등의 기능을 지원\n",
    "  - ex) 이메일 패턴 판별, 전화번호 판별, IP주소 판별 등\n",
    "  - 웹 크롤링에서도 많이 활용\n",
    "  - `raw string`: 문자열 앞에 `r`이 붙어 있는 문자열 -> 문자열 그대로 출력(escape 문자도 그대로 출력)"
   ]
  },
  {
   "cell_type": "code",
   "execution_count": 3,
   "metadata": {},
   "outputs": [
    {
     "name": "stdout",
     "output_type": "stream",
     "text": [
      "\ttest\n",
      "\n",
      "\\ttest\\n\n"
     ]
    }
   ],
   "source": [
    "test_string = '\\ttest\\n'\n",
    "print(test_string)\n",
    "\n",
    "test_string2 = r'\\ttest\\n' # raw string\n",
    "print(test_string2)"
   ]
  },
  {
   "cell_type": "markdown",
   "metadata": {},
   "source": [
    "#### 정규표현식 기본 패턴\n",
    "  - a, A, 0 등 문자 하나의 character들은 정확히 해당 문자와 일치\n",
    "  - 특별한 용도로 쓰이느 문자\n",
    "    - `. ^ * $ + ? { } [ ] \\ | ()`\n",
    "  - `.` : 마침표는 1개의 문자와 일치(Newline 제외)\n",
    "  - `\\w` : 문자와 일치 [a-zA-Z0-9_]\n",
    "  - `\\s` : 공백문자와 일치\n",
    "  - `\\t \\n \\r`: tab, newline, carriage return\n",
    "  - `\\d` : 숫자와 일치 [0-9]\n",
    "  - `^` 시작 패턴, `$` 끝 패턴\n",
    "  - `\\`가 있으면 특별한 용도의 문자 기능이 없어짐 ex) \\.이면 문자 마침표 자체를 의미, \\\\이면 1개의 \\ 백슬래시를 의미\n",
    "  - [정규표현식 참고](https://docs.python.org/3/library/re.html)\n"
   ]
  },
  {
   "cell_type": "markdown",
   "metadata": {},
   "source": [
    "#### search method\n",
    "  - 첫 번째로 패턴을 찾으면 match 객체 반환\n",
    "  - 주어진 문자열에서 패턴을 찾지 못하면 `None` 반환"
   ]
  },
  {
   "cell_type": "code",
   "execution_count": 10,
   "metadata": {},
   "outputs": [
    {
     "name": "stdout",
     "output_type": "stream",
     "text": [
      "1\n",
      "4\n"
     ]
    }
   ],
   "source": [
    "# Python에서는 re 모듈을 통해 정규표현식을 사용할 수 있음\n",
    "import re\n",
    "match = re.search(r'est', 'test') # 첫 번째 인자는 패턴, 두 번째 인자는 대상 문자열\n",
    "print(match.start()) # 가장 처음 매칭되는 문자의 index 위치 값을 출력\n",
    "print(match.end())   # 가장 마지막에 매칭되는 문자의 index 위치 값을 출력"
   ]
  },
  {
   "cell_type": "code",
   "execution_count": 13,
   "metadata": {},
   "outputs": [
    {
     "data": {
      "text/plain": [
       "<re.Match object; span=(0, 2), match='10'>"
      ]
     },
     "execution_count": 13,
     "metadata": {},
     "output_type": "execute_result"
    }
   ],
   "source": [
    "re.search(r'\\d\\d', '1004112aelkajdflk0234')"
   ]
  },
  {
   "cell_type": "code",
   "execution_count": 21,
   "metadata": {},
   "outputs": [],
   "source": [
    "re.search(r'\\w\\d\\w\\d\\d\\d\\d\\d\\d\\d', '1004112aelkajdflk0234')"
   ]
  },
  {
   "cell_type": "code",
   "execution_count": 23,
   "metadata": {},
   "outputs": [
    {
     "data": {
      "text/plain": [
       "<re.Match object; span=(3, 7), match='&@12'>"
      ]
     },
     "execution_count": 23,
     "metadata": {},
     "output_type": "execute_result"
    }
   ],
   "source": [
    "re.search(r'..\\w\\w', '@&$&@1234asdlkZDJEK')"
   ]
  },
  {
   "cell_type": "markdown",
   "metadata": {},
   "source": [
    "---"
   ]
  },
  {
   "cell_type": "markdown",
   "metadata": {},
   "source": [
    "#### 메타문자(Metacharacters)"
   ]
  },
  {
   "cell_type": "code",
   "execution_count": null,
   "metadata": {},
   "outputs": [],
   "source": []
  }
 ],
 "metadata": {
  "kernelspec": {
   "display_name": "Python 3",
   "language": "python",
   "name": "python3"
  },
  "language_info": {
   "codemirror_mode": {
    "name": "ipython",
    "version": 3
   },
   "file_extension": ".py",
   "mimetype": "text/x-python",
   "name": "python",
   "nbconvert_exporter": "python",
   "pygments_lexer": "ipython3",
   "version": "3.7.6"
  }
 },
 "nbformat": 4,
 "nbformat_minor": 4
}

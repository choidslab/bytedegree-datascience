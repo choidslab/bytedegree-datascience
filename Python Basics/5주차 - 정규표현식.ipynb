{
 "cells": [
  {
   "cell_type": "markdown",
   "metadata": {},
   "source": [
    "#### 정규표현식(Regular Expression)\n",
    "  - 주어진 문자열 내에서 특정한 패턴과 일치하는 문자열을 검색, 치환, 제거하는 등의 기능을 지원\n",
    "  - ex) 이메일 패턴 판별, 전화번호 판별, IP주소 판별 등\n",
    "  - 웹 크롤링에서도 많이 활용\n",
    "  - `raw string`: 문자열 앞에 `r`이 붙어 있는 문자열 -> 문자열 그대로 출력(escape 문자도 그대로 출력)"
   ]
  },
  {
   "cell_type": "code",
   "execution_count": 3,
   "metadata": {},
   "outputs": [
    {
     "name": "stdout",
     "output_type": "stream",
     "text": [
      "\ttest\n",
      "\n",
      "\\ttest\\n\n"
     ]
    }
   ],
   "source": [
    "test_string = '\\ttest\\n'\n",
    "print(test_string)\n",
    "\n",
    "test_string2 = r'\\ttest\\n' # raw string\n",
    "print(test_string2)"
   ]
  },
  {
   "cell_type": "markdown",
   "metadata": {},
   "source": [
    "#### 정규표현식 기본 패턴\n",
    "  - a, A, 0 등 문자 하나의 character들은 정확히 해당 문자와 일치\n",
    "  - 특별한 용도로 쓰이느 문자\n",
    "    - `. ^ * $ + ? { } [ ] \\ | ()`\n",
    "  - `.` : 마침표는 1개의 문자와 일치(Newline 제외)\n",
    "  - `\\w` : 문자와 일치 [a-zA-Z0-9_]\n",
    "  - `\\s` : 공백문자와 일치\n",
    "  - `\\t \\n \\r`: tab, newline, carriage return\n",
    "  - `\\d` : 숫자와 일치 [0-9]\n",
    "  - `^` 시작 패턴, `$` 끝 패턴\n",
    "  - `\\`가 있으면 특별한 용도의 문자 기능이 없어짐 ex) \\.이면 문자 마침표 자체를 의미, \\\\이면 1개의 \\ 백슬래시를 의미\n",
    "  - [정규표현식 참고](https://docs.python.org/3/library/re.html)\n"
   ]
  },
  {
   "cell_type": "markdown",
   "metadata": {},
   "source": [
    "#### search method\n",
    "  - 첫 번째로 패턴을 찾으면 match 객체 반환\n",
    "  - 주어진 문자열에서 패턴을 찾지 못하면 `None` 반환"
   ]
  },
  {
   "cell_type": "code",
   "execution_count": 10,
   "metadata": {},
   "outputs": [
    {
     "name": "stdout",
     "output_type": "stream",
     "text": [
      "1\n",
      "4\n"
     ]
    }
   ],
   "source": [
    "# Python에서는 re 모듈을 통해 정규표현식을 사용할 수 있음\n",
    "import re\n",
    "match = re.search(r'est', 'test') # 첫 번째 인자는 패턴, 두 번째 인자는 대상 문자열\n",
    "print(match.start()) # 가장 처음 매칭되는 문자의 index 위치 값을 출력\n",
    "print(match.end())   # 가장 마지막에 매칭되는 문자의 index 위치 값을 출력"
   ]
  },
  {
   "cell_type": "code",
   "execution_count": 13,
   "metadata": {},
   "outputs": [
    {
     "data": {
      "text/plain": [
       "<re.Match object; span=(0, 2), match='10'>"
      ]
     },
     "execution_count": 13,
     "metadata": {},
     "output_type": "execute_result"
    }
   ],
   "source": [
    "re.search(r'\\d\\d', '1004112aelkajdflk0234')"
   ]
  },
  {
   "cell_type": "code",
   "execution_count": 21,
   "metadata": {},
   "outputs": [],
   "source": [
    "re.search(r'\\w\\d\\w\\d\\d\\d\\d\\d\\d\\d', '1004112aelkajdflk0234')"
   ]
  },
  {
   "cell_type": "code",
   "execution_count": 23,
   "metadata": {},
   "outputs": [
    {
     "data": {
      "text/plain": [
       "<re.Match object; span=(3, 7), match='&@12'>"
      ]
     },
     "execution_count": 23,
     "metadata": {},
     "output_type": "execute_result"
    }
   ],
   "source": [
    "re.search(r'..\\w\\w', '@&$&@1234asdlkZDJEK')"
   ]
  },
  {
   "cell_type": "markdown",
   "metadata": {},
   "source": [
    "---"
   ]
  },
  {
   "cell_type": "markdown",
   "metadata": {},
   "source": [
    "#### 메타문자(Metacharacters)\n",
    "  - [] 내부의 메타 문자는 문자 자체를 나타냄\n",
    "  - ex)\n",
    "  - [abck] : a or b or c or k\n",
    "  - [abc.^] : a or b or c or . or ^\n",
    "  - [a-d] : `-(하이픈 문자)`는 문자 `범위`에 속하는 문자 하나를 의미\n",
    "  - [0-9] : 모든 숫자\n",
    "  - [a-z] : 모든 영어 소문자\n",
    "  - [A-Z] : 모든 영어 대문자\n",
    "  - [a-zA-Z0-9] : 모든 영어 알파벳 문자, 숫자\n",
    "  - [^0-9] : ^가 맨 앞에 나오는 경우 해당 문자 패턴이 아닌 것을 매칭 -> not의 의미 "
   ]
  },
  {
   "cell_type": "code",
   "execution_count": 9,
   "metadata": {},
   "outputs": [],
   "source": [
    "import re\n",
    "re.search(r'[clock]test', 'ockk123')"
   ]
  },
  {
   "cell_type": "code",
   "execution_count": 10,
   "metadata": {},
   "outputs": [
    {
     "data": {
      "text/plain": [
       "<re.Match object; span=(0, 5), match='1test'>"
      ]
     },
     "execution_count": 10,
     "metadata": {},
     "output_type": "execute_result"
    }
   ],
   "source": [
    "re.search(r'[0-4]test', '1test')"
   ]
  },
  {
   "cell_type": "code",
   "execution_count": 13,
   "metadata": {},
   "outputs": [],
   "source": [
    "re.search(r'[^abc]aron', 'baron')"
   ]
  },
  {
   "cell_type": "markdown",
   "metadata": {},
   "source": [
    "---"
   ]
  },
  {
   "cell_type": "markdown",
   "metadata": {},
   "source": [
    "#### \\ 백슬래시\n",
    "  - \\d : [0-9]와 같음\n",
    "  - \\D : 숫자가 아닌 문자 [^0-9]\n",
    "  - \\s : 공백 문자(띄어쓰기, tab, enter(개행))\n",
    "  - \\S : 공백이 아닌 문자\n",
    "  - \\w : 알파벳 대소문자, 숫자 [0-9a-zA-Z]\n",
    "  - \\W : 알파벳 대소문자, 숫자가 아닌 문자[^0-9a-zA-Z]\n",
    "  - \\\\, \\. 등 : 특수문자 앞에 \\를 붙여 특수문자 자체를 표현"
   ]
  },
  {
   "cell_type": "code",
   "execution_count": 23,
   "metadata": {},
   "outputs": [
    {
     "data": {
      "text/plain": [
       "<re.Match object; span=(12, 16), match='wand'>"
      ]
     },
     "execution_count": 23,
     "metadata": {},
     "output_type": "execute_result"
    }
   ],
   "source": [
    "import re\n",
    "re.search(r'\\wand', 'test string wand')"
   ]
  },
  {
   "cell_type": "code",
   "execution_count": 27,
   "metadata": {},
   "outputs": [
    {
     "data": {
      "text/plain": [
       "<re.Match object; span=(0, 3), match='pag'>"
      ]
     },
     "execution_count": 27,
     "metadata": {},
     "output_type": "execute_result"
    }
   ],
   "source": [
    "re.search(r'p.g', 'pag')"
   ]
  },
  {
   "cell_type": "markdown",
   "metadata": {},
   "source": [
    "---"
   ]
  },
  {
   "cell_type": "markdown",
   "metadata": {},
   "source": [
    "#### 반복패턴\n",
    "\n",
    "- 패턴 뒤에 위치는 `*, +, ?`는 해당 패턴이 반복되는지 검사\n",
    "  - `+` : 1번 이상 패턴\n",
    "  - `*` : 0번 이상 패턴\n",
    "  - `?` : 0번 또는 1번 패턴\n",
    "- 반복 패턴 검사는 greedy하게 검색(가능한 많은 부분이 매칭되도록 함)\n",
    "  - ex) a[bcd]*b 패턴을 abcbdccb에서 검색하는 경우 \n",
    "  - ab, abcb, abcbdccb 모두 패턴 매칭이 되지만 abcbdccb가 가장 많은 부분이 매칭되기 때문에 해당 문자열이 매칭된다."
   ]
  },
  {
   "cell_type": "code",
   "execution_count": 31,
   "metadata": {},
   "outputs": [
    {
     "data": {
      "text/plain": [
       "<re.Match object; span=(0, 2), match='ab'>"
      ]
     },
     "execution_count": 31,
     "metadata": {},
     "output_type": "execute_result"
    }
   ],
   "source": [
    "import re\n",
    "re.search(r'a[bcd]*b', 'abcdadbcdsasdvbcdbcsb')"
   ]
  },
  {
   "cell_type": "code",
   "execution_count": 118,
   "metadata": {},
   "outputs": [],
   "source": [
    "re.search(r'pi+g*','pgg')"
   ]
  },
  {
   "cell_type": "code",
   "execution_count": 34,
   "metadata": {},
   "outputs": [
    {
     "data": {
      "text/plain": [
       "<re.Match object; span=(0, 22), match='abcbcbcbcbcbcbddcdbcbb'>"
      ]
     },
     "execution_count": 34,
     "metadata": {},
     "output_type": "execute_result"
    }
   ],
   "source": [
    "re.search(r'a[bcd]*b', 'abcbcbcbcbcbcbddcdbcbb') # 다양한 매칭 결과 중 가장 많이 매칭된 것을 결과로 갖는다."
   ]
  },
  {
   "cell_type": "code",
   "execution_count": 36,
   "metadata": {},
   "outputs": [
    {
     "data": {
      "text/plain": [
       "<re.Match object; span=(6, 11), match='apple'>"
      ]
     },
     "execution_count": 36,
     "metadata": {},
     "output_type": "execute_result"
    }
   ],
   "source": [
    "re.search(r'a\\w+e', 'mango apple')"
   ]
  },
  {
   "cell_type": "code",
   "execution_count": 38,
   "metadata": {},
   "outputs": [
    {
     "data": {
      "text/plain": [
       "<re.Match object; span=(1, 3), match='aa'>"
      ]
     },
     "execution_count": 38,
     "metadata": {},
     "output_type": "execute_result"
    }
   ],
   "source": [
    "re.search(r'a+', 'paasiaaas') # re.search() 함수는 매칭된 가장 첫 번째 것으로 결과를 반환, 다음에 매칭된 것은 무시"
   ]
  },
  {
   "cell_type": "code",
   "execution_count": 39,
   "metadata": {},
   "outputs": [],
   "source": [
    "re.search(r'pi+g', 'pg') # i문자 뒤에 +가 있기 때문에 찾으려는 문자열에서 i 문자가 최소한 1번은 나와야 검색이 매칭"
   ]
  },
  {
   "cell_type": "code",
   "execution_count": 41,
   "metadata": {},
   "outputs": [
    {
     "data": {
      "text/plain": [
       "<re.Match object; span=(0, 2), match='pg'>"
      ]
     },
     "execution_count": 41,
     "metadata": {},
     "output_type": "execute_result"
    }
   ],
   "source": [
    "re.search(r'pi*g', 'pg') # *의 경우 0번 이상이기 때문에 i가 찾으려는 문자열에서 검색되지 않더라도 상관 없음"
   ]
  },
  {
   "cell_type": "code",
   "execution_count": 44,
   "metadata": {},
   "outputs": [
    {
     "data": {
      "text/plain": [
       "<re.Match object; span=(0, 4), match='http'>"
      ]
     },
     "execution_count": 44,
     "metadata": {},
     "output_type": "execute_result"
    }
   ],
   "source": [
    "re.search(r'https?', 'http://google.com') # ? 앞에 나온 문자가 검색하려는 문자열에 존재하거나 아니면 1번 나오는 경우 매칭"
   ]
  },
  {
   "cell_type": "code",
   "execution_count": 45,
   "metadata": {},
   "outputs": [
    {
     "data": {
      "text/plain": [
       "<re.Match object; span=(0, 4), match='http'>"
      ]
     },
     "execution_count": 45,
     "metadata": {},
     "output_type": "execute_result"
    }
   ],
   "source": [
    "re.search(r'http?', 'http://google.com') # ? 앞에 나온 문자가 검색하려는 문자열에 존재하거나 아니면 1번 나오는 경우 매칭"
   ]
  },
  {
   "cell_type": "code",
   "execution_count": 47,
   "metadata": {},
   "outputs": [
    {
     "data": {
      "text/plain": [
       "<re.Match object; span=(0, 4), match='http'>"
      ]
     },
     "execution_count": 47,
     "metadata": {},
     "output_type": "execute_result"
    }
   ],
   "source": [
    "re.search(r'httpt?', 'http://google.com') # ? 앞에 나온 문자가 검색하려는 문자열에 존재하거나 아니면 1번 나오는 경우 매칭"
   ]
  },
  {
   "cell_type": "markdown",
   "metadata": {},
   "source": [
    "---"
   ]
  },
  {
   "cell_type": "markdown",
   "metadata": {},
   "source": [
    "#### `^*, *$`\n",
    "  - `^*` : 문자열의 맨 앞부터 매칭되는 경우를 검색\n",
    "  - `*$` : 문자열의 맨 뒤에서부터 매칭되는 경우를 검색"
   ]
  },
  {
   "cell_type": "code",
   "execution_count": 48,
   "metadata": {},
   "outputs": [
    {
     "data": {
      "text/plain": [
       "<re.Match object; span=(2, 6), match='bana'>"
      ]
     },
     "execution_count": 48,
     "metadata": {},
     "output_type": "execute_result"
    }
   ],
   "source": [
    "re.search(r'b\\w+a', 'cabana')"
   ]
  },
  {
   "cell_type": "code",
   "execution_count": 49,
   "metadata": {},
   "outputs": [],
   "source": [
    "re.search(r'^b\\w+a', 'cabana') # 문자열 맨 앞부터 매칭이 되어야 검색이 됨"
   ]
  },
  {
   "cell_type": "code",
   "execution_count": 50,
   "metadata": {},
   "outputs": [
    {
     "data": {
      "text/plain": [
       "<re.Match object; span=(0, 6), match='babana'>"
      ]
     },
     "execution_count": 50,
     "metadata": {},
     "output_type": "execute_result"
    }
   ],
   "source": [
    "re.search(r'^b\\w+a', 'babana') # 문자열 맨 앞부터 매칭이 되어야 검색이 됨"
   ]
  },
  {
   "cell_type": "code",
   "execution_count": 54,
   "metadata": {},
   "outputs": [
    {
     "data": {
      "text/plain": [
       "<re.Match object; span=(2, 6), match='bana'>"
      ]
     },
     "execution_count": 54,
     "metadata": {},
     "output_type": "execute_result"
    }
   ],
   "source": [
    "re.search(r'b\\w+a$', 'cabana') # 문자열 끝부터 매칭이 되어야 검색이 됨"
   ]
  },
  {
   "cell_type": "code",
   "execution_count": 56,
   "metadata": {},
   "outputs": [],
   "source": [
    "re.search(r'b\\w+a$', 'cabanz') # 문자열 끝이 a로 끝나지 않았기 때문에 검색 X"
   ]
  },
  {
   "cell_type": "markdown",
   "metadata": {},
   "source": [
    "---"
   ]
  },
  {
   "cell_type": "markdown",
   "metadata": {},
   "source": [
    "#### grouping\n",
    "  - `()`을 사용하여 grouping\n",
    "  - 매칭 결과를 그룹별로 분리 \n",
    "  - 패턴을 명시할 때 그룹을 () 안에 넣어 분리\n",
    "  - `처음부터 그룹핑을 포함해서 정규표현식을 작성하면 복잡하기 때문에 정규표현식 작성 후, 필요한 부분만 다시 ()를 이용하여 그룹핑 하는 것이 효과적`"
   ]
  },
  {
   "cell_type": "code",
   "execution_count": 58,
   "metadata": {},
   "outputs": [
    {
     "name": "stdout",
     "output_type": "stream",
     "text": [
      "test\n",
      "naver.com\n"
     ]
    }
   ],
   "source": [
    "# 이메일 패턴 검색\n",
    "m = re.search(r'(\\w+)@(.+)', 'test@naver.com')\n",
    "print(m.group(1))\n",
    "print(m.group(2))"
   ]
  },
  {
   "cell_type": "markdown",
   "metadata": {},
   "source": [
    "---"
   ]
  },
  {
   "cell_type": "markdown",
   "metadata": {},
   "source": [
    "#### `{}`\n",
    "  - *, +, ?를 사용하면 반복적 패턴을 검색하는 것이 가능하지만 반복 횟수를 제한하여 지정할 수 없음\n",
    "  - 패턴뒤에 중괄호{}를 쓰고 숫자를 명시하면 해당 숫자만큼의 반복이 있는 경우 매칭되도록 지정할 수 있음\n",
    "  - ex) {5} - 5번 반복된 경우 검색, {3, 4} - 3~4회 반복된 경우 검색"
   ]
  },
  {
   "cell_type": "code",
   "execution_count": 69,
   "metadata": {},
   "outputs": [
    {
     "data": {
      "text/plain": [
       "<re.Match object; span=(0, 10), match='appppppple'>"
      ]
     },
     "execution_count": 69,
     "metadata": {},
     "output_type": "execute_result"
    }
   ],
   "source": [
    "re.search(r'ap+le','appppppple') # p 반복 횟수 지정할 수 없음"
   ]
  },
  {
   "cell_type": "code",
   "execution_count": 70,
   "metadata": {},
   "outputs": [],
   "source": [
    "re.search(r'ap{1}le','appppppple') # p가 1회 반복된 경우에만 매칭"
   ]
  },
  {
   "cell_type": "code",
   "execution_count": 71,
   "metadata": {},
   "outputs": [
    {
     "data": {
      "text/plain": [
       "<re.Match object; span=(0, 5), match='apple'>"
      ]
     },
     "execution_count": 71,
     "metadata": {},
     "output_type": "execute_result"
    }
   ],
   "source": [
    "re.search(r'ap{2}le','apple') # p가 2회 반복된 경우에만 매칭"
   ]
  },
  {
   "cell_type": "code",
   "execution_count": 73,
   "metadata": {},
   "outputs": [
    {
     "data": {
      "text/plain": [
       "<re.Match object; span=(0, 6), match='appple'>"
      ]
     },
     "execution_count": 73,
     "metadata": {},
     "output_type": "execute_result"
    }
   ],
   "source": [
    "re.search(r'ap{2,3}le','appple') # p가 2~3회 반복된 경우에만 매칭"
   ]
  },
  {
   "cell_type": "markdown",
   "metadata": {},
   "source": [
    "---"
   ]
  },
  {
   "cell_type": "markdown",
   "metadata": {},
   "source": [
    "#### 미니멈 매칭(Non-Greedy way)\n",
    "  - *, +, ?를 사용할 경우 기본적으로 greedy 방식으로 검색(maximum 매칭)\n",
    "  - `*?`, `+?`을 이용하여 미니멈 매칭 구현"
   ]
  },
  {
   "cell_type": "code",
   "execution_count": 75,
   "metadata": {},
   "outputs": [
    {
     "data": {
      "text/plain": [
       "<re.Match object; span=(0, 22), match='<html>Test Page</html>'>"
      ]
     },
     "execution_count": 75,
     "metadata": {},
     "output_type": "execute_result"
    }
   ],
   "source": [
    "re.search(r'<.+>', '<html>Test Page</html>') # <html> 부분만 검색하고 싶었으나 greedy 검색으로 인하여 </html>까지 모두 검출"
   ]
  },
  {
   "cell_type": "code",
   "execution_count": 80,
   "metadata": {},
   "outputs": [
    {
     "data": {
      "text/plain": [
       "<re.Match object; span=(0, 6), match='<html>'>"
      ]
     },
     "execution_count": 80,
     "metadata": {},
     "output_type": "execute_result"
    }
   ],
   "source": [
    "re.search(r'<.+?>', '<html>Test Page</html>') # <html>만 검색"
   ]
  },
  {
   "cell_type": "markdown",
   "metadata": {},
   "source": [
    "#### {}?\n",
    "  - {m, n}의 경우 m번에서 n번 반복하나 greedy하게 동작\n",
    "  - {m, n}?로 사용하면 non-greedy하게 동작, 즉 최소 m번만 매칭"
   ]
  },
  {
   "cell_type": "code",
   "execution_count": 89,
   "metadata": {},
   "outputs": [
    {
     "data": {
      "text/plain": [
       "<re.Match object; span=(0, 5), match='aaaaa'>"
      ]
     },
     "execution_count": 89,
     "metadata": {},
     "output_type": "execute_result"
    }
   ],
   "source": [
    "re.search(r'a{2,5}', 'aaaaaabbb') # greedy"
   ]
  },
  {
   "cell_type": "code",
   "execution_count": 90,
   "metadata": {},
   "outputs": [
    {
     "data": {
      "text/plain": [
       "<re.Match object; span=(0, 2), match='aa'>"
      ]
     },
     "execution_count": 90,
     "metadata": {},
     "output_type": "execute_result"
    }
   ],
   "source": [
    "re.search(r'a{2,5}?', 'aaaaaabbb') # non-greedy"
   ]
  },
  {
   "cell_type": "markdown",
   "metadata": {},
   "source": [
    "---"
   ]
  },
  {
   "cell_type": "markdown",
   "metadata": {},
   "source": [
    "#### match\n",
    "  - search와 유사, 주어진 문자열의 시작부터 비교하여 패턴 검색\n",
    "  - 시작부터 해당 패턴이 존재하지 않으면 None 반환"
   ]
  },
  {
   "cell_type": "code",
   "execution_count": 105,
   "metadata": {},
   "outputs": [],
   "source": [
    "re.match(r'\\d\\d\\d','my number is 125')"
   ]
  },
  {
   "cell_type": "code",
   "execution_count": 106,
   "metadata": {},
   "outputs": [
    {
     "data": {
      "text/plain": [
       "<re.Match object; span=(0, 3), match='125'>"
      ]
     },
     "execution_count": 106,
     "metadata": {},
     "output_type": "execute_result"
    }
   ],
   "source": [
    "re.match(r'\\d\\d\\d','125 is my number')"
   ]
  },
  {
   "cell_type": "markdown",
   "metadata": {},
   "source": [
    "---"
   ]
  },
  {
   "cell_type": "markdown",
   "metadata": {},
   "source": [
    "#### findall\n",
    "  - search가 최초로 매칭되는 패턴만 반환한다면, findall은 매칭되는 전체 패턴을 반환\n",
    "  - 매칭되는 모든 결과를 list 형태로 반환\n",
    "  - 즉, 문자열 내에서 정규표현식에 매칭되는 모든 결과를 리스트로 저장하여 결과를 반환 "
   ]
  },
  {
   "cell_type": "code",
   "execution_count": 107,
   "metadata": {},
   "outputs": [
    {
     "data": {
      "text/plain": [
       "['test@naver.com', 'test@gmail.com', 'test@kakao.com']"
      ]
     },
     "execution_count": 107,
     "metadata": {},
     "output_type": "execute_result"
    }
   ],
   "source": [
    "re.findall(r'[\\w-]+@[\\w.]+', 'test@naver.com test regular expression test@gmail.com study regx test@kakao.com')"
   ]
  },
  {
   "cell_type": "markdown",
   "metadata": {},
   "source": [
    "---"
   ]
  },
  {
   "cell_type": "markdown",
   "metadata": {},
   "source": [
    "#### sub\n",
    "  - 주어진 문자열에서 일치하는 모든 패턴을 replace\n",
    "  - 결과를 문자열로 다시 반환\n",
    "  - 두 번째 인자는 특정 문자열 또는 함수가 될 수 있음\n",
    "  - count가 0인 경우 전체를, 1 이상의 숫자를 지정한 경우 그 횟수만큼 replace\n",
    " "
   ]
  },
  {
   "cell_type": "code",
   "execution_count": 108,
   "metadata": {},
   "outputs": [
    {
     "data": {
      "text/plain": [
       "'email address test regular expression email address study regx email address'"
      ]
     },
     "execution_count": 108,
     "metadata": {},
     "output_type": "execute_result"
    }
   ],
   "source": [
    "re.sub(r'[\\w-]+@[\\w.]+', 'email address', 'test@naver.com test regular expression test@gmail.com study regx test@kakao.com')"
   ]
  },
  {
   "cell_type": "markdown",
   "metadata": {},
   "source": [
    "---"
   ]
  },
  {
   "cell_type": "markdown",
   "metadata": {},
   "source": [
    "#### compile\n",
    "  - 동일한 정규표현식을 매번 다시 사용하기 어려움\n",
    "  - `compile`로 정규표현식을 re.RegexObject 객체로 저장하여 사용 가능 \n",
    " "
   ]
  },
  {
   "cell_type": "code",
   "execution_count": 109,
   "metadata": {},
   "outputs": [
    {
     "data": {
      "text/plain": [
       "['test@naver.com', 'test@naver.com', 'test@naver.com', 'test@naver.com']"
      ]
     },
     "execution_count": 109,
     "metadata": {},
     "output_type": "execute_result"
    }
   ],
   "source": [
    "email_regx = re.compile(r'[\\w-]+@[\\w.]+')\n",
    "email_regx.search('test@naver.com')\n",
    "email_regx.findall('test@naver.com  test@naver.com test@naver.com test@naver.com')"
   ]
  },
  {
   "cell_type": "code",
   "execution_count": null,
   "metadata": {},
   "outputs": [],
   "source": []
  }
 ],
 "metadata": {
  "kernelspec": {
   "display_name": "Python 3",
   "language": "python",
   "name": "python3"
  },
  "language_info": {
   "codemirror_mode": {
    "name": "ipython",
    "version": 3
   },
   "file_extension": ".py",
   "mimetype": "text/x-python",
   "name": "python",
   "nbconvert_exporter": "python",
   "pygments_lexer": "ipython3",
   "version": "3.7.6"
  }
 },
 "nbformat": 4,
 "nbformat_minor": 4
}

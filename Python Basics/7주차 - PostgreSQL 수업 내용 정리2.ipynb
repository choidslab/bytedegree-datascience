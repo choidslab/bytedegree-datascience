{
 "cells": [
  {
   "cell_type": "markdown",
   "metadata": {},
   "source": [
    "> 패스트캠퍼스 바이트디그리 데이터사이언스 SQL 수업 내용을 정리, 요약한 자료입니다."
   ]
  },
  {
   "cell_type": "markdown",
   "metadata": {},
   "source": [
    "### SQL - Join\n",
    "  - 2개 이상의 Table을 결합하여 조회(Select)를 수행한 뒤, 가상의 Table처럼 결과를 만들어 출력\n",
    "  - Join의 종류\n",
    "    - `Inner Join`: 특정 컬럼을 기준으로 정확히 매칭된 결과 집합을 출력\n",
    "    - `Outter Join`: 특정 컬럼을 기준으로 매칭된 결과 집합을 출력, 한쪽 Table의 결과 집합은 모두 출력하고 다른 Table은 컬럼명만 출력\n",
    "    - `Self Join`: 동일한 Table 간의 Join, 특정 컬럼을 기준으로 매칭되는 값을 출력\n",
    "    - `Full Outer Join`: Inner Join, Left/Right Outer Join 결과를 모두 출력\n",
    "    - `Cross Join`: `Cartisian Product`라고도 함, 2개의 Table을 곱으로 Join한 결과를 출력\n",
    "    - `Natural Join`: 특정 Table 간의 같은 컬럼명을 갖는 Join 집합 결과를 출력\n"
   ]
  },
  {
   "cell_type": "markdown",
   "metadata": {},
   "source": [
    "---"
   ]
  }
 ],
 "metadata": {
  "kernelspec": {
   "display_name": "Python 3",
   "language": "python",
   "name": "python3"
  },
  "language_info": {
   "codemirror_mode": {
    "name": "ipython",
    "version": 3
   },
   "file_extension": ".py",
   "mimetype": "text/x-python",
   "name": "python",
   "nbconvert_exporter": "python",
   "pygments_lexer": "ipython3",
   "version": "3.7.6"
  }
 },
 "nbformat": 4,
 "nbformat_minor": 4
}

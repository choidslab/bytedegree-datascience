{
 "cells": [
  {
   "cell_type": "markdown",
   "metadata": {},
   "source": [
    "> 패스트캠퍼스 바이트디그리 데이터사이언스 SQL 수업 내용을 요약, 정리한 자료입니다."
   ]
  },
  {
   "cell_type": "markdown",
   "metadata": {},
   "source": [
    "### SQL - Having\n",
    "  - group by절과 함께 사용\n",
    "  - group by 결과 중에서 특정 조건에 맞는 결과만을 출력\n",
    "  - select에서 where절과 같은 기능\n",
    "  - usage\n",
    "    <br>![pg](./res/postgresql50.png)<br>![pg](./res/postgresql51.png) "
   ]
  },
  {
   "cell_type": "markdown",
   "metadata": {},
   "source": [
    "---"
   ]
  }
 ],
 "metadata": {
  "kernelspec": {
   "display_name": "Python 3",
   "language": "python",
   "name": "python3"
  },
  "language_info": {
   "codemirror_mode": {
    "name": "ipython",
    "version": 3
   },
   "file_extension": ".py",
   "mimetype": "text/x-python",
   "name": "python",
   "nbconvert_exporter": "python",
   "pygments_lexer": "ipython3",
   "version": "3.7.6"
  }
 },
 "nbformat": 4,
 "nbformat_minor": 4
}

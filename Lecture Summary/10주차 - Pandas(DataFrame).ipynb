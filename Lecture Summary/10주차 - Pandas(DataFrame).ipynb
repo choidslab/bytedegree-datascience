{
 "cells": [
  {
   "cell_type": "markdown",
   "metadata": {},
   "source": [
    "> 패스트캠퍼스 바이트디그리 데이터사이언스 과정 Python Pandas 수업 내용을 정리한 자료입니다.\n",
    "\n",
    "### Pandas Boolean indexing으로 조건에 맞는 데이터 검색\n",
    "  - ndarray 인덱싱을 할 때, bool 리스트를 전달하여 True 경우만 필터\n",
    "  - 브로드캐스팅을 이용하여 ndarray로부터 bool list 얻기"
   ]
  },
  {
   "cell_type": "code",
   "execution_count": null,
   "metadata": {},
   "outputs": [],
   "source": []
  }
 ],
 "metadata": {
  "kernelspec": {
   "display_name": "Python 3",
   "language": "python",
   "name": "python3"
  },
  "language_info": {
   "codemirror_mode": {
    "name": "ipython",
    "version": 3
   },
   "file_extension": ".py",
   "mimetype": "text/x-python",
   "name": "python",
   "nbconvert_exporter": "python",
   "pygments_lexer": "ipython3",
   "version": "3.7.6"
  }
 },
 "nbformat": 4,
 "nbformat_minor": 4
}

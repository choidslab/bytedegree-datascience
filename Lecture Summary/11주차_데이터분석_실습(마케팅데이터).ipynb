{
 "cells": [
  {
   "cell_type": "markdown",
   "metadata": {},
   "source": [
    "> 패스트캠퍼스 바이트디그리 데이터사이언스 과정 Python Pandas 수업 내용을 정리한 자료입니다."
   ]
  },
  {
   "cell_type": "markdown",
   "metadata": {},
   "source": [
    "#### 강의목표\n",
    "1. 데이터 처리 방법(How-to)\n",
    "2. 기술 통계량 추출\n",
    "  - 평균\n",
    "  - 중앙값\n",
    "  - 최빈값\n",
    "  - 분산\n",
    "  - 표준편차\n",
    "  - 4분위\n",
    "  - 최소/최대값\n",
    "3. Pandas, Matplotlib\n",
    "4. Python 기본기\n",
    "  - 머신러닝/딥러닝을 배우기 위한 기초"
   ]
  },
  {
   "cell_type": "markdown",
   "metadata": {},
   "source": [
    "#### 강의배경\n",
    "1. 대량 데이터 분석 능력 \n",
    "  - 엑셀파일은 대량 데이터 처리에 한계가 존재\n",
    "2. 광고주가 요구하는 데이터 분석 수준 증대\n",
    "  - 과거: 단순분석\n",
    "  - 현재: 다양한 변수에 대한 상관관계 등의 분석이 요구됨, insight 도출\n",
    "3. Python 기반의 데이터 분석 needs 증대"
   ]
  },
  {
   "cell_type": "markdown",
   "metadata": {},
   "source": [
    "#### 광고성과지표\n",
    "\n",
    "광고성과지표 = | 계산식\n",
    "-------------|--------------\n",
    "CTR(Click Through Rate)  = | 클릭수 / 노출수 * 100 \n",
    "CPM(Cost Per Mile)  = | 광고비용 / 노출수 * 1000\n",
    "CPC(Cost Per Click)  = | 광고비용 / 클릭수 \n",
    "CPA(Cost Per Action)  = | 광고비용 / 구매수 "
   ]
  },
  {
   "cell_type": "code",
   "execution_count": null,
   "metadata": {},
   "outputs": [],
   "source": []
  },
  {
   "cell_type": "code",
   "execution_count": null,
   "metadata": {},
   "outputs": [],
   "source": []
  },
  {
   "cell_type": "code",
   "execution_count": null,
   "metadata": {},
   "outputs": [],
   "source": []
  }
 ],
 "metadata": {
  "kernelspec": {
   "display_name": "Python 3",
   "language": "python",
   "name": "python3"
  },
  "language_info": {
   "codemirror_mode": {
    "name": "ipython",
    "version": 3
   },
   "file_extension": ".py",
   "mimetype": "text/x-python",
   "name": "python",
   "nbconvert_exporter": "python",
   "pygments_lexer": "ipython3",
   "version": "3.7.6"
  }
 },
 "nbformat": 4,
 "nbformat_minor": 4
}

{
 "cells": [
  {
   "cell_type": "markdown",
   "metadata": {},
   "source": [
    "#### 모듈 임포트\n",
    "  - 다양한 기능을 함수로 구현하여 모듈 형태로 제공\n",
    "  - 외부 `라이브러리(Library)`를 가져다 쓰는 것을 의미\n",
    "  - 파이썬에서는 표준(Standard) 모듈을 제공하고 있음\n",
    "  - 함수 -> 모듈 -> 패키지\n",
    "  - `import` 키워드로 모듈 사용 --> 모듈 전체 기능을 임포트\n",
    "  - `from 모듈 import 함수 또는 클래스` 형태로 모듈의 일부만 import 할 수도 있음\n",
    "  - `as` 키워드로 alias를 지정할 수 있음\n",
    "    - `import tensorflow as tf`\n",
    "  - ex) requests, numpy, pandas 등"
   ]
  },
  {
   "cell_type": "code",
   "execution_count": 5,
   "metadata": {},
   "outputs": [
    {
     "data": {
      "text/plain": [
       "'<!doctype html><html itemscope=\"\" itemtype=\"http://schema.org/WebPage\" lang=\"ko\"><head><meta content'"
      ]
     },
     "execution_count": 5,
     "metadata": {},
     "output_type": "execute_result"
    }
   ],
   "source": [
    "# request 모듈의 사용 예시\n",
    "import requests\n",
    "res = requests.get('https://www.google.com')\n",
    "res.text[:100]"
   ]
  },
  {
   "cell_type": "markdown",
   "metadata": {},
   "source": [
    "---"
   ]
  },
  {
   "cell_type": "code",
   "execution_count": 7,
   "metadata": {},
   "outputs": [
    {
     "data": {
      "text/plain": [
       "0.8939966636005579"
      ]
     },
     "execution_count": 7,
     "metadata": {},
     "output_type": "execute_result"
    }
   ],
   "source": [
    "import math\n",
    "math.sin(90)"
   ]
  },
  {
   "cell_type": "code",
   "execution_count": 10,
   "metadata": {},
   "outputs": [
    {
     "data": {
      "text/plain": [
       "-0.1760459464712114"
      ]
     },
     "execution_count": 10,
     "metadata": {},
     "output_type": "execute_result"
    }
   ],
   "source": [
    "from math import sin\n",
    "sin(270)"
   ]
  },
  {
   "cell_type": "code",
   "execution_count": 12,
   "metadata": {},
   "outputs": [
    {
     "name": "stdout",
     "output_type": "stream",
     "text": [
      "-0.1760459464712114\n",
      "-0.2836910914865273\n",
      "1.3862943611198906\n"
     ]
    }
   ],
   "source": [
    "from math import * # *를 사용할 경우 모듈의 모든 기능(함수, 클래스 등)을 임포트 한다는 의미\n",
    "print(sin(270))\n",
    "print(cos(360))\n",
    "print(log(4))"
   ]
  },
  {
   "cell_type": "code",
   "execution_count": null,
   "metadata": {},
   "outputs": [],
   "source": []
  }
 ],
 "metadata": {
  "kernelspec": {
   "display_name": "Python 3",
   "language": "python",
   "name": "python3"
  },
  "language_info": {
   "codemirror_mode": {
    "name": "ipython",
    "version": 3
   },
   "file_extension": ".py",
   "mimetype": "text/x-python",
   "name": "python",
   "nbconvert_exporter": "python",
   "pygments_lexer": "ipython3",
   "version": "3.7.6"
  }
 },
 "nbformat": 4,
 "nbformat_minor": 4
}

{
 "cells": [
  {
   "cell_type": "markdown",
   "metadata": {},
   "source": [
    "> 패스트캠퍼스 바이트디그리 데이터사이언스 과정 실전 데이터 분석 및 데이터 시각화 수업 내용을 정리한 자료입니다.\n",
    "> sample 데이터의 경우 패캠 저작권 문제로 실습 진행 후 jupyter notebook에서 출력된 결과는 제거한 뒤, repository에 push하였습니다."
   ]
  },
  {
   "cell_type": "markdown",
   "metadata": {},
   "source": [
    "### 데이터 분석 과정\n",
    "  - 데이터 수집 -> 데이터 전처리 -> 데이터 탐색 -> 데이터 시각화 -> 데이터 분석"
   ]
  },
  {
   "cell_type": "code",
   "execution_count": 1,
   "metadata": {},
   "outputs": [],
   "source": [
    "import numpy as np\n",
    "import pandas as pd\n",
    "import matplotlib.pyplot as plt"
   ]
  },
  {
   "cell_type": "code",
   "execution_count": 2,
   "metadata": {},
   "outputs": [],
   "source": [
    "# matplotlib에서 한글깨짐 현상 해결\n",
    "import matplotlib\n",
    "from matplotlib import font_manager, rc\n",
    "import platform\n",
    "\n",
    "if platform.system() == 'Windows':\n",
    "# 윈도우인 경우\n",
    "    font_name = font_manager.FontProperties(fname=\"c:/Windows/Fonts/malgun.ttf\").get_name()\n",
    "    rc('font', family=font_name)\n",
    "else:    \n",
    "# Mac 인 경우\n",
    "    rc('font', family='AppleGothic')\n",
    "    \n",
    "matplotlib.rcParams['axes.unicode_minus'] = False \n",
    "\n",
    "# [출처] 파이썬 그래프 한글이 깨질때&마이너스 부호 사용 | 작성자 데이터공방(https://blog.naver.com/kiddwannabe/221202864701)"
   ]
  },
  {
   "cell_type": "code",
   "execution_count": 34,
   "metadata": {},
   "outputs": [],
   "source": [
    "df = pd.read_excel('d:/sample_data.xls', skiprows=[0])"
   ]
  },
  {
   "cell_type": "code",
   "execution_count": 39,
   "metadata": {},
   "outputs": [],
   "source": [
    "df = pd.read_excel('d:/sample_data.xls', skiprows=[0, 2, 4])"
   ]
  },
  {
   "cell_type": "markdown",
   "metadata": {},
   "source": [
    "---"
   ]
  },
  {
   "cell_type": "markdown",
   "metadata": {},
   "source": [
    "### 결측치(Missing Value) 확인"
   ]
  },
  {
   "cell_type": "code",
   "execution_count": 15,
   "metadata": {},
   "outputs": [
    {
     "data": {
      "text/html": [
       "<div>\n",
       "<style scoped>\n",
       "    .dataframe tbody tr th:only-of-type {\n",
       "        vertical-align: middle;\n",
       "    }\n",
       "\n",
       "    .dataframe tbody tr th {\n",
       "        vertical-align: top;\n",
       "    }\n",
       "\n",
       "    .dataframe thead th {\n",
       "        text-align: right;\n",
       "    }\n",
       "</style>\n",
       "<table border=\"1\" class=\"dataframe\">\n",
       "  <thead>\n",
       "    <tr style=\"text-align: right;\">\n",
       "      <th></th>\n",
       "      <th>광고그룹</th>\n",
       "      <th>키워드</th>\n",
       "      <th>노출수</th>\n",
       "      <th>클릭수</th>\n",
       "      <th>클릭률(%)</th>\n",
       "      <th>평균클릭비용(VAT포함,원)</th>\n",
       "      <th>총비용(VAT포함,원)</th>\n",
       "    </tr>\n",
       "  </thead>\n",
       "  <tbody>\n",
       "    <tr>\n",
       "      <th>0</th>\n",
       "      <td>False</td>\n",
       "      <td>False</td>\n",
       "      <td>False</td>\n",
       "      <td>False</td>\n",
       "      <td>False</td>\n",
       "      <td>False</td>\n",
       "      <td>False</td>\n",
       "    </tr>\n",
       "    <tr>\n",
       "      <th>1</th>\n",
       "      <td>False</td>\n",
       "      <td>False</td>\n",
       "      <td>False</td>\n",
       "      <td>False</td>\n",
       "      <td>False</td>\n",
       "      <td>False</td>\n",
       "      <td>False</td>\n",
       "    </tr>\n",
       "    <tr>\n",
       "      <th>2</th>\n",
       "      <td>False</td>\n",
       "      <td>False</td>\n",
       "      <td>False</td>\n",
       "      <td>False</td>\n",
       "      <td>False</td>\n",
       "      <td>False</td>\n",
       "      <td>False</td>\n",
       "    </tr>\n",
       "    <tr>\n",
       "      <th>3</th>\n",
       "      <td>False</td>\n",
       "      <td>False</td>\n",
       "      <td>False</td>\n",
       "      <td>False</td>\n",
       "      <td>False</td>\n",
       "      <td>False</td>\n",
       "      <td>False</td>\n",
       "    </tr>\n",
       "    <tr>\n",
       "      <th>4</th>\n",
       "      <td>False</td>\n",
       "      <td>False</td>\n",
       "      <td>False</td>\n",
       "      <td>False</td>\n",
       "      <td>False</td>\n",
       "      <td>False</td>\n",
       "      <td>False</td>\n",
       "    </tr>\n",
       "    <tr>\n",
       "      <th>...</th>\n",
       "      <td>...</td>\n",
       "      <td>...</td>\n",
       "      <td>...</td>\n",
       "      <td>...</td>\n",
       "      <td>...</td>\n",
       "      <td>...</td>\n",
       "      <td>...</td>\n",
       "    </tr>\n",
       "    <tr>\n",
       "      <th>1374</th>\n",
       "      <td>False</td>\n",
       "      <td>False</td>\n",
       "      <td>False</td>\n",
       "      <td>False</td>\n",
       "      <td>False</td>\n",
       "      <td>False</td>\n",
       "      <td>False</td>\n",
       "    </tr>\n",
       "    <tr>\n",
       "      <th>1375</th>\n",
       "      <td>False</td>\n",
       "      <td>False</td>\n",
       "      <td>False</td>\n",
       "      <td>False</td>\n",
       "      <td>False</td>\n",
       "      <td>False</td>\n",
       "      <td>False</td>\n",
       "    </tr>\n",
       "    <tr>\n",
       "      <th>1376</th>\n",
       "      <td>False</td>\n",
       "      <td>False</td>\n",
       "      <td>False</td>\n",
       "      <td>False</td>\n",
       "      <td>False</td>\n",
       "      <td>False</td>\n",
       "      <td>False</td>\n",
       "    </tr>\n",
       "    <tr>\n",
       "      <th>1377</th>\n",
       "      <td>False</td>\n",
       "      <td>False</td>\n",
       "      <td>False</td>\n",
       "      <td>False</td>\n",
       "      <td>False</td>\n",
       "      <td>False</td>\n",
       "      <td>False</td>\n",
       "    </tr>\n",
       "    <tr>\n",
       "      <th>1378</th>\n",
       "      <td>False</td>\n",
       "      <td>False</td>\n",
       "      <td>False</td>\n",
       "      <td>False</td>\n",
       "      <td>False</td>\n",
       "      <td>False</td>\n",
       "      <td>False</td>\n",
       "    </tr>\n",
       "  </tbody>\n",
       "</table>\n",
       "<p>1379 rows × 7 columns</p>\n",
       "</div>"
      ],
      "text/plain": [
       "       광고그룹    키워드    노출수    클릭수  클릭률(%)  평균클릭비용(VAT포함,원)  총비용(VAT포함,원)\n",
       "0     False  False  False  False   False            False         False\n",
       "1     False  False  False  False   False            False         False\n",
       "2     False  False  False  False   False            False         False\n",
       "3     False  False  False  False   False            False         False\n",
       "4     False  False  False  False   False            False         False\n",
       "...     ...    ...    ...    ...     ...              ...           ...\n",
       "1374  False  False  False  False   False            False         False\n",
       "1375  False  False  False  False   False            False         False\n",
       "1376  False  False  False  False   False            False         False\n",
       "1377  False  False  False  False   False            False         False\n",
       "1378  False  False  False  False   False            False         False\n",
       "\n",
       "[1379 rows x 7 columns]"
      ]
     },
     "execution_count": 15,
     "metadata": {},
     "output_type": "execute_result"
    }
   ],
   "source": [
    "df.isnull()"
   ]
  },
  {
   "cell_type": "code",
   "execution_count": 16,
   "metadata": {},
   "outputs": [
    {
     "data": {
      "text/plain": [
       "광고그룹               0\n",
       "키워드                0\n",
       "노출수                0\n",
       "클릭수                0\n",
       "클릭률(%)             0\n",
       "평균클릭비용(VAT포함,원)    0\n",
       "총비용(VAT포함,원)       0\n",
       "dtype: int64"
      ]
     },
     "execution_count": 16,
     "metadata": {},
     "output_type": "execute_result"
    }
   ],
   "source": [
    "df.isnull().sum()"
   ]
  },
  {
   "cell_type": "code",
   "execution_count": 19,
   "metadata": {},
   "outputs": [
    {
     "data": {
      "text/plain": [
       "0       0\n",
       "1       0\n",
       "2       0\n",
       "3       0\n",
       "4       0\n",
       "       ..\n",
       "1374    0\n",
       "1375    0\n",
       "1376    0\n",
       "1377    0\n",
       "1378    0\n",
       "Length: 1379, dtype: int64"
      ]
     },
     "execution_count": 19,
     "metadata": {},
     "output_type": "execute_result"
    }
   ],
   "source": [
    "df.isnull().sum(axis=1)"
   ]
  },
  {
   "cell_type": "markdown",
   "metadata": {},
   "source": [
    "### DataFrame 열 단위 수치연산 및 데이터 타입\n",
    "  - 클릭수\n",
    "  - 클릭률\n",
    "  - 평균 클릭비용"
   ]
  },
  {
   "cell_type": "code",
   "execution_count": null,
   "metadata": {},
   "outputs": [],
   "source": []
  },
  {
   "cell_type": "code",
   "execution_count": 22,
   "metadata": {},
   "outputs": [
    {
     "data": {
      "text/plain": [
       "0       8058.0\n",
       "1       1864.0\n",
       "2        814.0\n",
       "3        260.0\n",
       "4        271.0\n",
       "         ...  \n",
       "1374       0.0\n",
       "1375       0.0\n",
       "1376       0.0\n",
       "1377       0.0\n",
       "1378       0.0\n",
       "Name: 클릭수, Length: 1379, dtype: float64"
      ]
     },
     "execution_count": 22,
     "metadata": {},
     "output_type": "execute_result"
    }
   ],
   "source": [
    "# round 함수를 이용하여 반올림 처리\n",
    "clk = round(df['클릭수'], 0)\n",
    "clk"
   ]
  },
  {
   "cell_type": "code",
   "execution_count": 28,
   "metadata": {},
   "outputs": [
    {
     "name": "stdout",
     "output_type": "stream",
     "text": [
      "10000.0\n",
      "9900.0\n",
      "9880.0\n",
      "9876.0\n",
      "9876.1\n",
      "9876.12\n",
      "9876.123\n",
      "9876.1234\n",
      "9876.1234\n"
     ]
    }
   ],
   "source": [
    "# round 함수 활용 예시\n",
    "print(round(9876.1234, -3))\n",
    "print(round(9876.1234, -2))\n",
    "print(round(9876.1234, -1))\n",
    "print(round(9876.1234, 0))\n",
    "print(round(9876.1234, 1)) # 소수점 첫번 째 자리에서 반올림\n",
    "print(round(9876.1234, 2)) # 소수점 두번 째 자리에서 반올림\n",
    "print(round(9876.1234, 3)) \n",
    "print(round(9876.1234, 4))\n",
    "print(round(9876.1234, 5))"
   ]
  },
  {
   "cell_type": "code",
   "execution_count": 31,
   "metadata": {},
   "outputs": [
    {
     "data": {
      "text/plain": [
       "0       8058\n",
       "1       1864\n",
       "2        814\n",
       "3        260\n",
       "4        271\n",
       "        ... \n",
       "1374       0\n",
       "1375       0\n",
       "1376       0\n",
       "1377       0\n",
       "1378       0\n",
       "Name: 클릭수, Length: 1379, dtype: int32"
      ]
     },
     "execution_count": 31,
     "metadata": {},
     "output_type": "execute_result"
    }
   ],
   "source": [
    "# float to int\n",
    "clk.astype(int) # astype() 함수를 이용하여 전체 데이터에 대한 type을 변경할 수 있다."
   ]
  },
  {
   "cell_type": "markdown",
   "metadata": {},
   "source": [
    "#### DataFrame은 열(Column)을 기준으로 수치연산 가능"
   ]
  },
  {
   "cell_type": "code",
   "execution_count": 37,
   "metadata": {},
   "outputs": [
    {
     "data": {
      "text/plain": [
       "0       0.414149\n",
       "1       1.049915\n",
       "2       0.028475\n",
       "3       0.268489\n",
       "4       0.008452\n",
       "          ...   \n",
       "1376    0.000000\n",
       "1377    0.000000\n",
       "1378    0.000000\n",
       "1379    0.000000\n",
       "1380    0.000000\n",
       "Length: 1381, dtype: float64"
      ]
     },
     "execution_count": 37,
     "metadata": {},
     "output_type": "execute_result"
    }
   ],
   "source": [
    "df['클릭수'] / df['노출수'] * 100"
   ]
  },
  {
   "cell_type": "code",
   "execution_count": 38,
   "metadata": {},
   "outputs": [],
   "source": [
    "# 연산결과를 특정 컬럼에 삽입\n",
    "df['클릭률(%)'] = df['클릭수'] / df['노출수'] * 100\n",
    "df.head()"
   ]
  },
  {
   "cell_type": "markdown",
   "metadata": {},
   "source": [
    "---"
   ]
  },
  {
   "cell_type": "markdown",
   "metadata": {},
   "source": [
    "### Pandas를 활용한 데이터 탐색 실습\n",
    "  - 탐색에 사용되는 Pandas 함수를 살펴보고 이를 활용"
   ]
  },
  {
   "cell_type": "code",
   "execution_count": 68,
   "metadata": {},
   "outputs": [],
   "source": [
    "df = pd.read_excel('/Users/dooseop/Desktop/Fast Campus/ByteDegree-DataScience/sample_data.xls', skiprows=[0])\n",
    "# df.head()"
   ]
  },
  {
   "cell_type": "code",
   "execution_count": 9,
   "metadata": {},
   "outputs": [
    {
     "name": "stdout",
     "output_type": "stream",
     "text": [
      "<class 'pandas.core.frame.DataFrame'>\n",
      "RangeIndex: 1382 entries, 0 to 1381\n",
      "Data columns (total 7 columns):\n",
      " #   Column                                  Non-Null Count  Dtype \n",
      "---  ------                                  --------------  ----- \n",
      " 0   캠페인보고서(2019.02.01.~2019.04.30.),ftasia  1382 non-null   object\n",
      " 1   Unnamed: 1                              1382 non-null   object\n",
      " 2   Unnamed: 2                              1382 non-null   object\n",
      " 3   Unnamed: 3                              1382 non-null   object\n",
      " 4   Unnamed: 4                              1382 non-null   object\n",
      " 5   Unnamed: 5                              1382 non-null   object\n",
      " 6   Unnamed: 6                              1382 non-null   object\n",
      "dtypes: object(7)\n",
      "memory usage: 75.7+ KB\n"
     ]
    }
   ],
   "source": [
    "# DataFrame 구조 파악\n",
    "df.info()"
   ]
  },
  {
   "cell_type": "code",
   "execution_count": 12,
   "metadata": {},
   "outputs": [
    {
     "data": {
      "text/plain": [
       "(1381, 7)"
      ]
     },
     "execution_count": 12,
     "metadata": {},
     "output_type": "execute_result"
    }
   ],
   "source": [
    "# DataFrame의 행, 열의 수\n",
    "df.shape"
   ]
  },
  {
   "cell_type": "code",
   "execution_count": 14,
   "metadata": {},
   "outputs": [
    {
     "data": {
      "text/html": [
       "<div>\n",
       "<style scoped>\n",
       "    .dataframe tbody tr th:only-of-type {\n",
       "        vertical-align: middle;\n",
       "    }\n",
       "\n",
       "    .dataframe tbody tr th {\n",
       "        vertical-align: top;\n",
       "    }\n",
       "\n",
       "    .dataframe thead th {\n",
       "        text-align: right;\n",
       "    }\n",
       "</style>\n",
       "<table border=\"1\" class=\"dataframe\">\n",
       "  <thead>\n",
       "    <tr style=\"text-align: right;\">\n",
       "      <th></th>\n",
       "      <th>노출수</th>\n",
       "      <th>클릭수</th>\n",
       "      <th>클릭률(%)</th>\n",
       "      <th>평균클릭비용(VAT포함,원)</th>\n",
       "      <th>총비용(VAT포함,원)</th>\n",
       "    </tr>\n",
       "  </thead>\n",
       "  <tbody>\n",
       "    <tr>\n",
       "      <th>count</th>\n",
       "      <td>1.381000e+03</td>\n",
       "      <td>1381.000000</td>\n",
       "      <td>1381.000000</td>\n",
       "      <td>1381.000000</td>\n",
       "      <td>1.381000e+03</td>\n",
       "    </tr>\n",
       "    <tr>\n",
       "      <th>mean</th>\n",
       "      <td>3.505415e+04</td>\n",
       "      <td>52.530630</td>\n",
       "      <td>0.352871</td>\n",
       "      <td>981.631682</td>\n",
       "      <td>3.791958e+04</td>\n",
       "    </tr>\n",
       "    <tr>\n",
       "      <th>std</th>\n",
       "      <td>2.964650e+05</td>\n",
       "      <td>387.502772</td>\n",
       "      <td>1.000468</td>\n",
       "      <td>1372.390031</td>\n",
       "      <td>1.421492e+05</td>\n",
       "    </tr>\n",
       "    <tr>\n",
       "      <th>min</th>\n",
       "      <td>1.001000e+03</td>\n",
       "      <td>0.000000</td>\n",
       "      <td>0.000000</td>\n",
       "      <td>0.000000</td>\n",
       "      <td>0.000000e+00</td>\n",
       "    </tr>\n",
       "    <tr>\n",
       "      <th>25%</th>\n",
       "      <td>1.814000e+03</td>\n",
       "      <td>1.200000</td>\n",
       "      <td>0.007152</td>\n",
       "      <td>64.166667</td>\n",
       "      <td>7.700000e+01</td>\n",
       "    </tr>\n",
       "    <tr>\n",
       "      <th>50%</th>\n",
       "      <td>3.805000e+03</td>\n",
       "      <td>3.600000</td>\n",
       "      <td>0.061031</td>\n",
       "      <td>395.976793</td>\n",
       "      <td>2.123000e+03</td>\n",
       "    </tr>\n",
       "    <tr>\n",
       "      <th>75%</th>\n",
       "      <td>1.073400e+04</td>\n",
       "      <td>14.400000</td>\n",
       "      <td>0.237026</td>\n",
       "      <td>1302.812500</td>\n",
       "      <td>1.743500e+04</td>\n",
       "    </tr>\n",
       "    <tr>\n",
       "      <th>max</th>\n",
       "      <td>9.626374e+06</td>\n",
       "      <td>9606.000000</td>\n",
       "      <td>13.587402</td>\n",
       "      <td>9362.527778</td>\n",
       "      <td>2.512444e+06</td>\n",
       "    </tr>\n",
       "  </tbody>\n",
       "</table>\n",
       "</div>"
      ],
      "text/plain": [
       "                노출수          클릭수       클릭률(%)  평균클릭비용(VAT포함,원)  총비용(VAT포함,원)\n",
       "count  1.381000e+03  1381.000000  1381.000000      1381.000000  1.381000e+03\n",
       "mean   3.505415e+04    52.530630     0.352871       981.631682  3.791958e+04\n",
       "std    2.964650e+05   387.502772     1.000468      1372.390031  1.421492e+05\n",
       "min    1.001000e+03     0.000000     0.000000         0.000000  0.000000e+00\n",
       "25%    1.814000e+03     1.200000     0.007152        64.166667  7.700000e+01\n",
       "50%    3.805000e+03     3.600000     0.061031       395.976793  2.123000e+03\n",
       "75%    1.073400e+04    14.400000     0.237026      1302.812500  1.743500e+04\n",
       "max    9.626374e+06  9606.000000    13.587402      9362.527778  2.512444e+06"
      ]
     },
     "execution_count": 14,
     "metadata": {},
     "output_type": "execute_result"
    }
   ],
   "source": [
    "# describe() : 각 열에 대한 기술 통계량을 보여줌\n",
    "df.describe()"
   ]
  },
  {
   "cell_type": "code",
   "execution_count": 15,
   "metadata": {},
   "outputs": [
    {
     "data": {
      "text/html": [
       "<div>\n",
       "<style scoped>\n",
       "    .dataframe tbody tr th:only-of-type {\n",
       "        vertical-align: middle;\n",
       "    }\n",
       "\n",
       "    .dataframe tbody tr th {\n",
       "        vertical-align: top;\n",
       "    }\n",
       "\n",
       "    .dataframe thead th {\n",
       "        text-align: right;\n",
       "    }\n",
       "</style>\n",
       "<table border=\"1\" class=\"dataframe\">\n",
       "  <thead>\n",
       "    <tr style=\"text-align: right;\">\n",
       "      <th></th>\n",
       "      <th>노출수</th>\n",
       "      <th>클릭수</th>\n",
       "      <th>클릭률(%)</th>\n",
       "      <th>평균클릭비용(VAT포함,원)</th>\n",
       "      <th>총비용(VAT포함,원)</th>\n",
       "    </tr>\n",
       "  </thead>\n",
       "  <tbody>\n",
       "    <tr>\n",
       "      <th>count</th>\n",
       "      <td>1381.00</td>\n",
       "      <td>1381.00</td>\n",
       "      <td>1381.00</td>\n",
       "      <td>1381.00</td>\n",
       "      <td>1381.00</td>\n",
       "    </tr>\n",
       "    <tr>\n",
       "      <th>mean</th>\n",
       "      <td>35054.15</td>\n",
       "      <td>52.53</td>\n",
       "      <td>0.35</td>\n",
       "      <td>981.63</td>\n",
       "      <td>37919.58</td>\n",
       "    </tr>\n",
       "    <tr>\n",
       "      <th>std</th>\n",
       "      <td>296465.03</td>\n",
       "      <td>387.50</td>\n",
       "      <td>1.00</td>\n",
       "      <td>1372.39</td>\n",
       "      <td>142149.16</td>\n",
       "    </tr>\n",
       "    <tr>\n",
       "      <th>min</th>\n",
       "      <td>1001.00</td>\n",
       "      <td>0.00</td>\n",
       "      <td>0.00</td>\n",
       "      <td>0.00</td>\n",
       "      <td>0.00</td>\n",
       "    </tr>\n",
       "    <tr>\n",
       "      <th>25%</th>\n",
       "      <td>1814.00</td>\n",
       "      <td>1.20</td>\n",
       "      <td>0.01</td>\n",
       "      <td>64.17</td>\n",
       "      <td>77.00</td>\n",
       "    </tr>\n",
       "    <tr>\n",
       "      <th>50%</th>\n",
       "      <td>3805.00</td>\n",
       "      <td>3.60</td>\n",
       "      <td>0.06</td>\n",
       "      <td>395.98</td>\n",
       "      <td>2123.00</td>\n",
       "    </tr>\n",
       "    <tr>\n",
       "      <th>75%</th>\n",
       "      <td>10734.00</td>\n",
       "      <td>14.40</td>\n",
       "      <td>0.24</td>\n",
       "      <td>1302.81</td>\n",
       "      <td>17435.00</td>\n",
       "    </tr>\n",
       "    <tr>\n",
       "      <th>max</th>\n",
       "      <td>9626374.00</td>\n",
       "      <td>9606.00</td>\n",
       "      <td>13.59</td>\n",
       "      <td>9362.53</td>\n",
       "      <td>2512444.00</td>\n",
       "    </tr>\n",
       "  </tbody>\n",
       "</table>\n",
       "</div>"
      ],
      "text/plain": [
       "             노출수     클릭수  클릭률(%)  평균클릭비용(VAT포함,원)  총비용(VAT포함,원)\n",
       "count    1381.00 1381.00 1381.00          1381.00       1381.00\n",
       "mean    35054.15   52.53    0.35           981.63      37919.58\n",
       "std    296465.03  387.50    1.00          1372.39     142149.16\n",
       "min      1001.00    0.00    0.00             0.00          0.00\n",
       "25%      1814.00    1.20    0.01            64.17         77.00\n",
       "50%      3805.00    3.60    0.06           395.98       2123.00\n",
       "75%     10734.00   14.40    0.24          1302.81      17435.00\n",
       "max   9626374.00 9606.00   13.59          9362.53    2512444.00"
      ]
     },
     "execution_count": 15,
     "metadata": {},
     "output_type": "execute_result"
    }
   ],
   "source": [
    "# Pandas 출력 옵션설정 : float로 바꾸기\n",
    "pd.set_option('display.float_format', '{:.2f}'.format) \n",
    "df.describe()"
   ]
  },
  {
   "cell_type": "code",
   "execution_count": 16,
   "metadata": {},
   "outputs": [
    {
     "data": {
      "text/plain": [
       "Index(['광고그룹', '키워드', '노출수', '클릭수', '클릭률(%)', '평균클릭비용(VAT포함,원)',\n",
       "       '총비용(VAT포함,원)'],\n",
       "      dtype='object')"
      ]
     },
     "execution_count": 16,
     "metadata": {},
     "output_type": "execute_result"
    }
   ],
   "source": [
    "# columns : 컬럼명 반환\n",
    "df.columns"
   ]
  },
  {
   "cell_type": "code",
   "execution_count": 67,
   "metadata": {},
   "outputs": [],
   "source": [
    "# unique() : 열(Series)의 고유 값 반환 \n",
    "# df['광고그룹'].unique"
   ]
  },
  {
   "cell_type": "code",
   "execution_count": 19,
   "metadata": {},
   "outputs": [
    {
     "data": {
      "text/plain": [
       "186"
      ]
     },
     "execution_count": 19,
     "metadata": {},
     "output_type": "execute_result"
    }
   ],
   "source": [
    "# len, unique()\n",
    "len(df['광고그룹'].unique())"
   ]
  },
  {
   "cell_type": "code",
   "execution_count": 20,
   "metadata": {},
   "outputs": [
    {
     "data": {
      "text/plain": [
       "array(['-', '일러스트', 'HTML', ..., 'MATCH', 'DECISION', 'REST'],\n",
       "      dtype=object)"
      ]
     },
     "execution_count": 20,
     "metadata": {},
     "output_type": "execute_result"
    }
   ],
   "source": [
    "df['키워드'].unique()"
   ]
  },
  {
   "cell_type": "code",
   "execution_count": 21,
   "metadata": {},
   "outputs": [
    {
     "data": {
      "text/plain": [
       "1112"
      ]
     },
     "execution_count": 21,
     "metadata": {},
     "output_type": "execute_result"
    }
   ],
   "source": [
    "len(df['키워드'].unique())"
   ]
  },
  {
   "cell_type": "code",
   "execution_count": 22,
   "metadata": {},
   "outputs": [
    {
     "data": {
      "text/plain": [
       "-          8\n",
       "GUI        5\n",
       "포토샵        5\n",
       "구글광고       5\n",
       "마케팅전략      4\n",
       "          ..\n",
       "파이썬프로그램    1\n",
       "애프터이펙트     1\n",
       "유튜브사진      1\n",
       "경영         1\n",
       "모바일광고      1\n",
       "Name: 키워드, Length: 1112, dtype: int64"
      ]
     },
     "execution_count": 22,
     "metadata": {},
     "output_type": "execute_result"
    }
   ],
   "source": [
    "# value_counts() : 컬럼 고유 값의 빈도\n",
    "df['키워드'].value_counts()"
   ]
  },
  {
   "cell_type": "code",
   "execution_count": 66,
   "metadata": {},
   "outputs": [],
   "source": [
    "# df['광고그룹'].value_counts()"
   ]
  },
  {
   "cell_type": "code",
   "execution_count": 24,
   "metadata": {},
   "outputs": [
    {
     "data": {
      "text/plain": [
       "1057       1001\n",
       "445        1003\n",
       "597        1005\n",
       "983        1006\n",
       "442        1007\n",
       "         ...   \n",
       "13      1470452\n",
       "9       1887822\n",
       "0       2319456\n",
       "173     3095998\n",
       "4       9626374\n",
       "Name: 노출수, Length: 1381, dtype: int64"
      ]
     },
     "execution_count": 24,
     "metadata": {},
     "output_type": "execute_result"
    }
   ],
   "source": [
    "# sort_values() : 정렬(default: 오름차순)\n",
    "df['노출수'].sort_values()"
   ]
  },
  {
   "cell_type": "code",
   "execution_count": 25,
   "metadata": {},
   "outputs": [
    {
     "data": {
      "text/plain": [
       "4       9626374\n",
       "173     3095998\n",
       "0       2319456\n",
       "9       1887822\n",
       "13      1470452\n",
       "         ...   \n",
       "442        1007\n",
       "983        1006\n",
       "597        1005\n",
       "445        1003\n",
       "1057       1001\n",
       "Name: 노출수, Length: 1381, dtype: int64"
      ]
     },
     "execution_count": 25,
     "metadata": {},
     "output_type": "execute_result"
    }
   ],
   "source": [
    "# 내림차순\n",
    "df['노출수'].sort_values(ascending=False)"
   ]
  },
  {
   "cell_type": "markdown",
   "metadata": {},
   "source": [
    "---"
   ]
  },
  {
   "cell_type": "markdown",
   "metadata": {},
   "source": [
    "### 시각화를 통한 데이터 탐색 실습\n",
    "  - 데이터 시각화 실습\n",
    "  - 데이터 가공/처리 후 시각화 실습"
   ]
  },
  {
   "cell_type": "code",
   "execution_count": 28,
   "metadata": {},
   "outputs": [
    {
     "data": {
      "text/plain": [
       "pandas.core.series.Series"
      ]
     },
     "execution_count": 28,
     "metadata": {},
     "output_type": "execute_result"
    }
   ],
   "source": [
    "# 노출수 컬럼에 대한 시각화(Series 시각화)\n",
    "# DataFrame의 한 Column은 Series 데이터 타입이다.\n",
    "type(df['노출수'])"
   ]
  },
  {
   "cell_type": "code",
   "execution_count": 29,
   "metadata": {},
   "outputs": [
    {
     "data": {
      "image/png": "[encoded data removed]",
      "text/plain": [
       "<Figure size 432x288 with 1 Axes>"
      ]
     },
     "metadata": {
      "needs_background": "light"
     },
     "output_type": "display_data"
    }
   ],
   "source": [
    "df['노출수'].plot()\n",
    "plt.show()"
   ]
  },
  {
   "cell_type": "markdown",
   "metadata": {},
   "source": [
    "- 조금 더 명확한 패턴이 보일 수 있도록 그래프의 데이터 시각화 옵션을 지정\n",
    "  - 현재는 index를 기준으로 출력\n",
    "  - value를 기준으로 출력"
   ]
  },
  {
   "cell_type": "code",
   "execution_count": 30,
   "metadata": {},
   "outputs": [],
   "source": [
    "imp_sort = df['노출수'].sort_values()"
   ]
  },
  {
   "cell_type": "code",
   "execution_count": 31,
   "metadata": {},
   "outputs": [
    {
     "data": {
      "text/plain": [
       "1057       1001\n",
       "445        1003\n",
       "597        1005\n",
       "983        1006\n",
       "442        1007\n",
       "         ...   \n",
       "13      1470452\n",
       "9       1887822\n",
       "0       2319456\n",
       "173     3095998\n",
       "4       9626374\n",
       "Name: 노출수, Length: 1381, dtype: int64"
      ]
     },
     "execution_count": 31,
     "metadata": {},
     "output_type": "execute_result"
    }
   ],
   "source": [
    "imp_sort # 오름차순 정렬"
   ]
  },
  {
   "cell_type": "code",
   "execution_count": 32,
   "metadata": {},
   "outputs": [],
   "source": [
    "imp_sort = imp_sort.reset_index() # index 재생성"
   ]
  },
  {
   "cell_type": "code",
   "execution_count": 33,
   "metadata": {},
   "outputs": [
    {
     "data": {
      "text/html": [
       "<div>\n",
       "<style scoped>\n",
       "    .dataframe tbody tr th:only-of-type {\n",
       "        vertical-align: middle;\n",
       "    }\n",
       "\n",
       "    .dataframe tbody tr th {\n",
       "        vertical-align: top;\n",
       "    }\n",
       "\n",
       "    .dataframe thead th {\n",
       "        text-align: right;\n",
       "    }\n",
       "</style>\n",
       "<table border=\"1\" class=\"dataframe\">\n",
       "  <thead>\n",
       "    <tr style=\"text-align: right;\">\n",
       "      <th></th>\n",
       "      <th>index</th>\n",
       "      <th>노출수</th>\n",
       "    </tr>\n",
       "  </thead>\n",
       "  <tbody>\n",
       "    <tr>\n",
       "      <th>0</th>\n",
       "      <td>1057</td>\n",
       "      <td>1001</td>\n",
       "    </tr>\n",
       "    <tr>\n",
       "      <th>1</th>\n",
       "      <td>445</td>\n",
       "      <td>1003</td>\n",
       "    </tr>\n",
       "    <tr>\n",
       "      <th>2</th>\n",
       "      <td>597</td>\n",
       "      <td>1005</td>\n",
       "    </tr>\n",
       "    <tr>\n",
       "      <th>3</th>\n",
       "      <td>983</td>\n",
       "      <td>1006</td>\n",
       "    </tr>\n",
       "    <tr>\n",
       "      <th>4</th>\n",
       "      <td>442</td>\n",
       "      <td>1007</td>\n",
       "    </tr>\n",
       "    <tr>\n",
       "      <th>...</th>\n",
       "      <td>...</td>\n",
       "      <td>...</td>\n",
       "    </tr>\n",
       "    <tr>\n",
       "      <th>1376</th>\n",
       "      <td>13</td>\n",
       "      <td>1470452</td>\n",
       "    </tr>\n",
       "    <tr>\n",
       "      <th>1377</th>\n",
       "      <td>9</td>\n",
       "      <td>1887822</td>\n",
       "    </tr>\n",
       "    <tr>\n",
       "      <th>1378</th>\n",
       "      <td>0</td>\n",
       "      <td>2319456</td>\n",
       "    </tr>\n",
       "    <tr>\n",
       "      <th>1379</th>\n",
       "      <td>173</td>\n",
       "      <td>3095998</td>\n",
       "    </tr>\n",
       "    <tr>\n",
       "      <th>1380</th>\n",
       "      <td>4</td>\n",
       "      <td>9626374</td>\n",
       "    </tr>\n",
       "  </tbody>\n",
       "</table>\n",
       "<p>1381 rows × 2 columns</p>\n",
       "</div>"
      ],
      "text/plain": [
       "      index      노출수\n",
       "0      1057     1001\n",
       "1       445     1003\n",
       "2       597     1005\n",
       "3       983     1006\n",
       "4       442     1007\n",
       "...     ...      ...\n",
       "1376     13  1470452\n",
       "1377      9  1887822\n",
       "1378      0  2319456\n",
       "1379    173  3095998\n",
       "1380      4  9626374\n",
       "\n",
       "[1381 rows x 2 columns]"
      ]
     },
     "execution_count": 33,
     "metadata": {},
     "output_type": "execute_result"
    }
   ],
   "source": [
    "imp_sort"
   ]
  },
  {
   "cell_type": "code",
   "execution_count": 34,
   "metadata": {},
   "outputs": [
    {
     "data": {
      "text/html": [
       "<div>\n",
       "<style scoped>\n",
       "    .dataframe tbody tr th:only-of-type {\n",
       "        vertical-align: middle;\n",
       "    }\n",
       "\n",
       "    .dataframe tbody tr th {\n",
       "        vertical-align: top;\n",
       "    }\n",
       "\n",
       "    .dataframe thead th {\n",
       "        text-align: right;\n",
       "    }\n",
       "</style>\n",
       "<table border=\"1\" class=\"dataframe\">\n",
       "  <thead>\n",
       "    <tr style=\"text-align: right;\">\n",
       "      <th></th>\n",
       "      <th>노출수</th>\n",
       "    </tr>\n",
       "  </thead>\n",
       "  <tbody>\n",
       "    <tr>\n",
       "      <th>0</th>\n",
       "      <td>1001</td>\n",
       "    </tr>\n",
       "    <tr>\n",
       "      <th>1</th>\n",
       "      <td>1003</td>\n",
       "    </tr>\n",
       "    <tr>\n",
       "      <th>2</th>\n",
       "      <td>1005</td>\n",
       "    </tr>\n",
       "    <tr>\n",
       "      <th>3</th>\n",
       "      <td>1006</td>\n",
       "    </tr>\n",
       "    <tr>\n",
       "      <th>4</th>\n",
       "      <td>1007</td>\n",
       "    </tr>\n",
       "    <tr>\n",
       "      <th>...</th>\n",
       "      <td>...</td>\n",
       "    </tr>\n",
       "    <tr>\n",
       "      <th>1376</th>\n",
       "      <td>1470452</td>\n",
       "    </tr>\n",
       "    <tr>\n",
       "      <th>1377</th>\n",
       "      <td>1887822</td>\n",
       "    </tr>\n",
       "    <tr>\n",
       "      <th>1378</th>\n",
       "      <td>2319456</td>\n",
       "    </tr>\n",
       "    <tr>\n",
       "      <th>1379</th>\n",
       "      <td>3095998</td>\n",
       "    </tr>\n",
       "    <tr>\n",
       "      <th>1380</th>\n",
       "      <td>9626374</td>\n",
       "    </tr>\n",
       "  </tbody>\n",
       "</table>\n",
       "<p>1381 rows × 1 columns</p>\n",
       "</div>"
      ],
      "text/plain": [
       "          노출수\n",
       "0        1001\n",
       "1        1003\n",
       "2        1005\n",
       "3        1006\n",
       "4        1007\n",
       "...       ...\n",
       "1376  1470452\n",
       "1377  1887822\n",
       "1378  2319456\n",
       "1379  3095998\n",
       "1380  9626374\n",
       "\n",
       "[1381 rows x 1 columns]"
      ]
     },
     "execution_count": 34,
     "metadata": {},
     "output_type": "execute_result"
    }
   ],
   "source": [
    "# 컬럼 삭제\n",
    "imp_sort.drop('index', axis=1) "
   ]
  },
  {
   "cell_type": "code",
   "execution_count": 36,
   "metadata": {},
   "outputs": [
    {
     "data": {
      "text/html": [
       "<div>\n",
       "<style scoped>\n",
       "    .dataframe tbody tr th:only-of-type {\n",
       "        vertical-align: middle;\n",
       "    }\n",
       "\n",
       "    .dataframe tbody tr th {\n",
       "        vertical-align: top;\n",
       "    }\n",
       "\n",
       "    .dataframe thead th {\n",
       "        text-align: right;\n",
       "    }\n",
       "</style>\n",
       "<table border=\"1\" class=\"dataframe\">\n",
       "  <thead>\n",
       "    <tr style=\"text-align: right;\">\n",
       "      <th></th>\n",
       "      <th>index</th>\n",
       "      <th>노출수</th>\n",
       "    </tr>\n",
       "  </thead>\n",
       "  <tbody>\n",
       "    <tr>\n",
       "      <th>0</th>\n",
       "      <td>1057</td>\n",
       "      <td>1001</td>\n",
       "    </tr>\n",
       "    <tr>\n",
       "      <th>1</th>\n",
       "      <td>445</td>\n",
       "      <td>1003</td>\n",
       "    </tr>\n",
       "    <tr>\n",
       "      <th>2</th>\n",
       "      <td>597</td>\n",
       "      <td>1005</td>\n",
       "    </tr>\n",
       "    <tr>\n",
       "      <th>3</th>\n",
       "      <td>983</td>\n",
       "      <td>1006</td>\n",
       "    </tr>\n",
       "    <tr>\n",
       "      <th>4</th>\n",
       "      <td>442</td>\n",
       "      <td>1007</td>\n",
       "    </tr>\n",
       "    <tr>\n",
       "      <th>...</th>\n",
       "      <td>...</td>\n",
       "      <td>...</td>\n",
       "    </tr>\n",
       "    <tr>\n",
       "      <th>1376</th>\n",
       "      <td>13</td>\n",
       "      <td>1470452</td>\n",
       "    </tr>\n",
       "    <tr>\n",
       "      <th>1377</th>\n",
       "      <td>9</td>\n",
       "      <td>1887822</td>\n",
       "    </tr>\n",
       "    <tr>\n",
       "      <th>1378</th>\n",
       "      <td>0</td>\n",
       "      <td>2319456</td>\n",
       "    </tr>\n",
       "    <tr>\n",
       "      <th>1379</th>\n",
       "      <td>173</td>\n",
       "      <td>3095998</td>\n",
       "    </tr>\n",
       "    <tr>\n",
       "      <th>1380</th>\n",
       "      <td>4</td>\n",
       "      <td>9626374</td>\n",
       "    </tr>\n",
       "  </tbody>\n",
       "</table>\n",
       "<p>1381 rows × 2 columns</p>\n",
       "</div>"
      ],
      "text/plain": [
       "      index      노출수\n",
       "0      1057     1001\n",
       "1       445     1003\n",
       "2       597     1005\n",
       "3       983     1006\n",
       "4       442     1007\n",
       "...     ...      ...\n",
       "1376     13  1470452\n",
       "1377      9  1887822\n",
       "1378      0  2319456\n",
       "1379    173  3095998\n",
       "1380      4  9626374\n",
       "\n",
       "[1381 rows x 2 columns]"
      ]
     },
     "execution_count": 36,
     "metadata": {},
     "output_type": "execute_result"
    }
   ],
   "source": [
    "imp_sort # 원본에서는 index 컬럼이 삭제되지 않은 것을 확인할 수 있음 "
   ]
  },
  {
   "cell_type": "code",
   "execution_count": 37,
   "metadata": {},
   "outputs": [],
   "source": [
    "# 원본에서 컬럼 삭제하기 \n",
    "imp_sort.drop('index', axis=1, inplace=True) "
   ]
  },
  {
   "cell_type": "code",
   "execution_count": 39,
   "metadata": {},
   "outputs": [
    {
     "data": {
      "text/html": [
       "<div>\n",
       "<style scoped>\n",
       "    .dataframe tbody tr th:only-of-type {\n",
       "        vertical-align: middle;\n",
       "    }\n",
       "\n",
       "    .dataframe tbody tr th {\n",
       "        vertical-align: top;\n",
       "    }\n",
       "\n",
       "    .dataframe thead th {\n",
       "        text-align: right;\n",
       "    }\n",
       "</style>\n",
       "<table border=\"1\" class=\"dataframe\">\n",
       "  <thead>\n",
       "    <tr style=\"text-align: right;\">\n",
       "      <th></th>\n",
       "      <th>노출수</th>\n",
       "    </tr>\n",
       "  </thead>\n",
       "  <tbody>\n",
       "    <tr>\n",
       "      <th>0</th>\n",
       "      <td>1001</td>\n",
       "    </tr>\n",
       "    <tr>\n",
       "      <th>1</th>\n",
       "      <td>1003</td>\n",
       "    </tr>\n",
       "    <tr>\n",
       "      <th>2</th>\n",
       "      <td>1005</td>\n",
       "    </tr>\n",
       "    <tr>\n",
       "      <th>3</th>\n",
       "      <td>1006</td>\n",
       "    </tr>\n",
       "    <tr>\n",
       "      <th>4</th>\n",
       "      <td>1007</td>\n",
       "    </tr>\n",
       "    <tr>\n",
       "      <th>...</th>\n",
       "      <td>...</td>\n",
       "    </tr>\n",
       "    <tr>\n",
       "      <th>1376</th>\n",
       "      <td>1470452</td>\n",
       "    </tr>\n",
       "    <tr>\n",
       "      <th>1377</th>\n",
       "      <td>1887822</td>\n",
       "    </tr>\n",
       "    <tr>\n",
       "      <th>1378</th>\n",
       "      <td>2319456</td>\n",
       "    </tr>\n",
       "    <tr>\n",
       "      <th>1379</th>\n",
       "      <td>3095998</td>\n",
       "    </tr>\n",
       "    <tr>\n",
       "      <th>1380</th>\n",
       "      <td>9626374</td>\n",
       "    </tr>\n",
       "  </tbody>\n",
       "</table>\n",
       "<p>1381 rows × 1 columns</p>\n",
       "</div>"
      ],
      "text/plain": [
       "          노출수\n",
       "0        1001\n",
       "1        1003\n",
       "2        1005\n",
       "3        1006\n",
       "4        1007\n",
       "...       ...\n",
       "1376  1470452\n",
       "1377  1887822\n",
       "1378  2319456\n",
       "1379  3095998\n",
       "1380  9626374\n",
       "\n",
       "[1381 rows x 1 columns]"
      ]
     },
     "execution_count": 39,
     "metadata": {},
     "output_type": "execute_result"
    }
   ],
   "source": [
    "imp_sort"
   ]
  },
  {
   "cell_type": "code",
   "execution_count": 40,
   "metadata": {},
   "outputs": [
    {
     "data": {
      "image/png": "[encoded data removed]",
      "text/plain": [
       "<Figure size 432x288 with 1 Axes>"
      ]
     },
     "metadata": {
      "needs_background": "light"
     },
     "output_type": "display_data"
    }
   ],
   "source": [
    "imp_sort.plot()\n",
    "plt.show()"
   ]
  },
  {
   "cell_type": "code",
   "execution_count": 44,
   "metadata": {},
   "outputs": [
    {
     "data": {
      "image/png": "[encoded data removed]",
      "text/plain": [
       "<Figure size 432x288 with 1 Axes>"
      ]
     },
     "metadata": {
      "needs_background": "light"
     },
     "output_type": "display_data"
    }
   ],
   "source": [
    "# 클릭수 컬럼 시각화 - 한 줄 코딩으로\n",
    "(((df['클릭수'].sort_values()).reset_index()).drop('index', axis=1)).plot()\n",
    "plt.show()"
   ]
  },
  {
   "cell_type": "code",
   "execution_count": 46,
   "metadata": {},
   "outputs": [
    {
     "data": {
      "image/png": "[encoded data removed]",
      "text/plain": [
       "<Figure size 432x288 with 1 Axes>"
      ]
     },
     "metadata": {
      "needs_background": "light"
     },
     "output_type": "display_data"
    }
   ],
   "source": [
    "# 총비용 컬럼 시각화\n",
    "(((df['총비용(VAT포함,원)'].sort_values()).reset_index()).drop('index', axis=1)).plot()\n",
    "plt.show()"
   ]
  },
  {
   "cell_type": "markdown",
   "metadata": {},
   "source": [
    "---"
   ]
  },
  {
   "cell_type": "markdown",
   "metadata": {},
   "source": [
    "### 데이터 분석\n",
    "  - Pandas를 이용하여 데이터 분석 실습 진행"
   ]
  },
  {
   "cell_type": "markdown",
   "metadata": {},
   "source": [
    "### 중점관리키워드 추출\n",
    "  - 노출수, 클리수 기준 상위 5% 키워드 추출\n",
    "    1. 95 백분위수 찾기(`quantitle 함수`)\n",
    "    2. 95 백분위수 이상(상위 5%)의 노출수 추출\n",
    "    3. 상쉬 5%에 해당하는 키워드 추출"
   ]
  },
  {
   "cell_type": "code",
   "execution_count": 48,
   "metadata": {},
   "outputs": [],
   "source": [
    "# 백분위 구하기 \n",
    "imp = df['노출수']"
   ]
  },
  {
   "cell_type": "code",
   "execution_count": 50,
   "metadata": {},
   "outputs": [
    {
     "data": {
      "text/plain": [
       "3805.0"
      ]
     },
     "execution_count": 50,
     "metadata": {},
     "output_type": "execute_result"
    }
   ],
   "source": [
    "# 95백분위수 찾기 - quantile() 함수 : 분위수 출력(default: 2분위수(중앙값))\n",
    "imp.quantile()"
   ]
  },
  {
   "cell_type": "code",
   "execution_count": 51,
   "metadata": {},
   "outputs": [
    {
     "data": {
      "text/plain": [
       "3805.0"
      ]
     },
     "execution_count": 51,
     "metadata": {},
     "output_type": "execute_result"
    }
   ],
   "source": [
    "# 중앙값(median)\n",
    "imp.median()"
   ]
  },
  {
   "cell_type": "code",
   "execution_count": 52,
   "metadata": {},
   "outputs": [
    {
     "name": "stdout",
     "output_type": "stream",
     "text": [
      "1001.0\n",
      "1001\n"
     ]
    }
   ],
   "source": [
    "# 최소값 - quantile(0) 함수에 0 입력\n",
    "print(imp.quantile(0))\n",
    "print(imp.min())"
   ]
  },
  {
   "cell_type": "code",
   "execution_count": 53,
   "metadata": {},
   "outputs": [
    {
     "name": "stdout",
     "output_type": "stream",
     "text": [
      "9626374.0\n",
      "9626374\n"
     ]
    }
   ],
   "source": [
    "# 최대값 - quantile(1) 함수에 1 입력\n",
    "print(imp.quantile(1))\n",
    "print(imp.max())"
   ]
  },
  {
   "cell_type": "code",
   "execution_count": 54,
   "metadata": {},
   "outputs": [
    {
     "data": {
      "text/plain": [
       "82858.0"
      ]
     },
     "execution_count": 54,
     "metadata": {},
     "output_type": "execute_result"
    }
   ],
   "source": [
    "# 95백분위수 = quantile(0.95)\n",
    "imp.quantile(0.95)"
   ]
  },
  {
   "cell_type": "code",
   "execution_count": 56,
   "metadata": {},
   "outputs": [
    {
     "name": "stdout",
     "output_type": "stream",
     "text": [
      "0      2319456\n",
      "4      9626374\n",
      "9      1887822\n",
      "173    3095998\n",
      "Name: 노출수, dtype: int64\n"
     ]
    }
   ],
   "source": [
    "# 95백분위수 이상(상위 5%) 노출수 추출\n",
    "imp = imp[imp >= imp.quantile(0.95)]\n",
    "print(imp)"
   ]
  },
  {
   "cell_type": "markdown",
   "metadata": {},
   "source": [
    "#### 상위 5%에 해당하는 키워드 추출\n",
    "  - DataFrame의 기본 숫자인덱스 -> '키워드'로 재설정"
   ]
  },
  {
   "cell_type": "code",
   "execution_count": 65,
   "metadata": {},
   "outputs": [],
   "source": [
    "# 원본 데이터 확인\n",
    "# df.head()"
   ]
  },
  {
   "cell_type": "code",
   "execution_count": 60,
   "metadata": {},
   "outputs": [],
   "source": [
    "df_index = df.set_index('키워드')"
   ]
  },
  {
   "cell_type": "code",
   "execution_count": 64,
   "metadata": {},
   "outputs": [],
   "source": [
    "# df_index"
   ]
  },
  {
   "cell_type": "code",
   "execution_count": 62,
   "metadata": {},
   "outputs": [],
   "source": [
    "imp = df_index['노출수']\n",
    "imp = imp[imp >= imp.quantile(0.95)]"
   ]
  },
  {
   "cell_type": "code",
   "execution_count": 63,
   "metadata": {},
   "outputs": [
    {
     "data": {
      "text/plain": [
       "키워드\n",
       "-         2319456\n",
       "-          767491\n",
       "일러스트      1137840\n",
       "-          694106\n",
       "HTML      9626374\n",
       "           ...   \n",
       "부동산스터디     196862\n",
       "가상메모리       94933\n",
       "프로모션        82858\n",
       "앱스토어       126393\n",
       "OS          90041\n",
       "Name: 노출수, Length: 70, dtype: int64"
      ]
     },
     "execution_count": 63,
     "metadata": {},
     "output_type": "execute_result"
    }
   ],
   "source": [
    "imp"
   ]
  },
  {
   "cell_type": "code",
   "execution_count": null,
   "metadata": {},
   "outputs": [],
   "source": []
  }
 ],
 "metadata": {
  "kernelspec": {
   "display_name": "Python 3",
   "language": "python",
   "name": "python3"
  },
  "language_info": {
   "codemirror_mode": {
    "name": "ipython",
    "version": 3
   },
   "file_extension": ".py",
   "mimetype": "text/x-python",
   "name": "python",
   "nbconvert_exporter": "python",
   "pygments_lexer": "ipython3",
   "version": "3.7.6"
  }
 },
 "nbformat": 4,
 "nbformat_minor": 4
}

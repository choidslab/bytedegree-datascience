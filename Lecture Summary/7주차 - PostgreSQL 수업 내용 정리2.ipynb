{
 "cells": [
  {
   "cell_type": "markdown",
   "metadata": {},
   "source": [
    "> 패스트캠퍼스 바이트디그리 데이터사이언스 SQL 수업 내용을 정리, 요약한 자료입니다."
   ]
  },
  {
   "cell_type": "markdown",
   "metadata": {},
   "source": [
    "### SQL - Join\n",
    "  - 2개 이상의 Table을 결합하여 조회(Select)를 수행한 뒤, 가상의 Table처럼 결과를 만들어 출력\n",
    "  - Join의 종류\n",
    "    - `Inner Join`: 특정 컬럼을 기준으로 정확히 매칭된 결과 집합을 출력\n",
    "    - `Outer Join`: 특정 컬럼을 기준으로 매칭된 결과 집합을 출력, 한쪽 Table의 결과 집합은 모두 출력하고 다른 Table은 컬럼명만 출력\n",
    "    - `Self Join`: 동일한 Table 간의 Join, 특정 컬럼을 기준으로 매칭되는 값을 출력\n",
    "    - `Full Outer Join`: Inner Join, Left/Right Outer Join 결과를 모두 출력\n",
    "    - `Cross Join`: `Cartisian Product`라고도 함, 2개의 Table을 곱으로 Join한 결과를 출력\n",
    "    - `Natural Join`: 특정 Table 간의 같은 컬럼명을 갖는 Join 집합 결과를 출력\n"
   ]
  },
  {
   "cell_type": "markdown",
   "metadata": {},
   "source": [
    "---"
   ]
  },
  {
   "cell_type": "markdown",
   "metadata": {},
   "source": [
    "### SQL Join 종류\n",
    "![pg](http://www.codeproject.com/KB/database/Visual_SQL_Joins/Visual_SQL_JOINS_orig.jpg)"
   ]
  },
  {
   "cell_type": "markdown",
   "metadata": {},
   "source": [
    "### SQL - Inner Join\n",
    "  - 특정 컬럼을 기준으로 2개 이상의 table에서 동시에 매칭이 되는 결과 집합을 조회 \n",
    "  - 2개 이상의 table의 공통된 컬럼 결과 조회(교집합)\n",
    "  - 일반적으로 Join이라고 하면 Inner Join을 의미\n",
    "  - usage\n",
    "    <br>![pg](./res/postgresql24.png)<br>![pg](./res/postgresql25.png) \n",
    "  "
   ]
  },
  {
   "cell_type": "markdown",
   "metadata": {},
   "source": [
    "---"
   ]
  },
  {
   "cell_type": "markdown",
   "metadata": {},
   "source": [
    "### SQL - Outer Join\n",
    "  - 특정 컬럼을 기준으로 매칭된 결과 집합을 출력하지만 한쪽 table의 결과만 모두 출력하고 다른 한쪽은 매칭된 컬럼의 값만 출력(매칭되지 않은 부분은 Null로 표시)\n",
    "  - 요약하면 기준이되는 한 쪽 table의 결과는 전부 다 출력, 나머지 한 쪽은 매칭되는 부분만 출력\n",
    "  - usage\n",
    "      - `LEFT OUTER JOIN`\n",
    "        <br>![pg](./res/postgresql26.png)<br>![pg](./res/postgresql27.png)<br>\n",
    "      - `LEFT ONLY`\n",
    "        <br>![pg](./res/postgresql28.png)<br>![pg](./res/postgresql29.png)<br>\n",
    "\n",
    "      - `RIGHT OUTER JOIN`\n",
    "        <br>![pg](./res/postgresql30.png)<br>![pg](./res/postgresql31.png)<br>\n",
    "      - `RIGHT ONLY`\n",
    "        <br>![pg](./res/postgresql32.png)<br>![pg](./res/postgresql33.png)<br>\n",
    "\n",
    "  \n",
    "  \n",
    "  \n"
   ]
  },
  {
   "cell_type": "markdown",
   "metadata": {},
   "source": [
    "---"
   ]
  },
  {
   "cell_type": "markdown",
   "metadata": {},
   "source": [
    "\n",
    "### SQL - SELF JOIN\n",
    "  - 같은 table 간의 Join\n",
    "  - usage\n",
    "      - `SELF JOIN`\n",
    "      <br>![pg](./res/postgresql34.png)<br>![pg](./res/postgresql35.png)<br>"
   ]
  },
  {
   "cell_type": "markdown",
   "metadata": {},
   "source": [
    "---"
   ]
  },
  {
   "cell_type": "markdown",
   "metadata": {},
   "source": [
    "### SQL - FULL OUTER JOIN\n",
    "  - INNER JOIN, LEFT OUTER JOIN, RIGHT OUTER JOIN 집합을 모두 출력\n",
    "  - 요약하면 두 개의 table 사이에서 출력 가능한 모든 데이터 집합을 출력\n",
    "  - usage\n",
    "    <br>![pg](./res/postgresql36.png)<br>![pg](./res/postgresql37.png)\n",
    "    <br>![pg](./res/postgresql38.png)<br>![pg](./res/postgresql39.png)<br>"
   ]
  },
  {
   "cell_type": "markdown",
   "metadata": {},
   "source": [
    "---"
   ]
  },
  {
   "cell_type": "markdown",
   "metadata": {},
   "source": [
    "### SQL - CROSS JOIN\n",
    "  - CROSS JOIN은 `Cartesian Product` 연산을 위해 사용되는 JOIN\n",
    "  - 데이터 복제에 많이 쓰이는 SQL 문법\n",
    "  - usage\n",
    "    <br>![pg](./res/postgresql40.png)<br>\n",
    "    - cross_t1의 label 컬럼 값\n",
    "      - A, B\n",
    "    - cross_t2의 score 컬럼 값\n",
    "      - 1, 2, 3\n",
    "    - 총 6개의 결과가 출력 됨\n",
    "      - (A, 1), (B, 1), (A, 2), (B, 2), (A, 3), (B, 3)\n",
    "    \n",
    "    ![pg](./res/postgresql41.png)<br>"
   ]
  },
  {
   "cell_type": "markdown",
   "metadata": {},
   "source": [
    "---"
   ]
  },
  {
   "cell_type": "markdown",
   "metadata": {},
   "source": [
    "### SQL - NATURAL JOIN\n",
    "  - 실무에서는 거의 사용되지 않는 JOIN. But, INNER JOIN에 대해 더 깊은 이해를 할 수 있음\n",
    "  - 2개의  Table 사이에 같은 컬럼명을 갖는 `Inner Join` 결과를 출력\n",
    "  - 즉, Natural Join은 Inner Join은 또 다른 SQL 작성 방식(Join 되는 컬럼명을 명시하지 않아도 자동으로 Join) -> 잘못된 조회 발생 가능\n",
    "    <br>![pg](./res/postgresql44.png)<br>![pg](./res/postgresql45.png)<br>"
   ]
  },
  {
   "cell_type": "markdown",
   "metadata": {},
   "source": [
    "---"
   ]
  },
  {
   "cell_type": "markdown",
   "metadata": {},
   "source": [
    "### SQL - GROUP BY\n",
    "  - SELECT 결과 반한된 행(row)을 그룹으로 나누는 기능\n",
    "  - 각 그룹별 합계, 평균, 카운트 등을 계산(Aggregate Function - 집계함수)\n",
    "    - `sum(), count(), avg()` 등 \n",
    "  - `Group by` 절에 지정된 컬럼의 값이 같은 행에 대해서 묶어서 통계정보를 보여줌\n",
    "  - usage \n",
    "    <br>![pg](./res/postgresql46.png)<br>![pg](./res/postgresql47.png)<br>\n",
    "    ![pg](./res/postgresql48.png)<br>![pg](./res/postgresql49.png)<br>"
   ]
  },
  {
   "cell_type": "markdown",
   "metadata": {},
   "source": [
    "---"
   ]
  },
  {
   "cell_type": "markdown",
   "metadata": {},
   "source": [
    "### SQL - Having\n",
    "  - group by절과 함께 사용\n",
    "  - group by 결과 중에서 특정 조건에 맞는 결과만을 출력\n",
    "  - select에서 where절과 같은 기능\n",
    "  - usage\n",
    "    <br>![pg](./res/postgresql50.png)<br>![pg](./res/postgresql51.png) "
   ]
  }
 ],
 "metadata": {
  "kernelspec": {
   "display_name": "Python 3",
   "language": "python",
   "name": "python3"
  },
  "language_info": {
   "codemirror_mode": {
    "name": "ipython",
    "version": 3
   },
   "file_extension": ".py",
   "mimetype": "text/x-python",
   "name": "python",
   "nbconvert_exporter": "python",
   "pygments_lexer": "ipython3",
   "version": "3.7.6"
  }
 },
 "nbformat": 4,
 "nbformat_minor": 4
}
